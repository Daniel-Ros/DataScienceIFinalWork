{
 "cells": [
  {
   "cell_type": "code",
   "execution_count": 1,
   "metadata": {},
   "outputs": [],
   "source": [
    "import pandas as pd\n",
    "import numpy as np\n",
    "\n",
    "cast_df = pd.read_csv(r'./cast.csv')"
   ]
  },
  {
   "cell_type": "markdown",
   "metadata": {},
   "source": [
    "# Section 1"
   ]
  },
  {
   "cell_type": "markdown",
   "metadata": {},
   "source": [
    "## Question 1"
   ]
  },
  {
   "cell_type": "code",
   "execution_count": 2,
   "metadata": {},
   "outputs": [
    {
     "name": "stdout",
     "output_type": "stream",
     "text": [
      "this is the number is binary base 0b1100\n",
      "this is the number is hexadecimal base 0xc\n",
      "this is the number is octal base 0o14\n"
     ]
    }
   ],
   "source": [
    "def deminal_to_all_bases(num):\n",
    "    if (not isinstance(num, int)):\n",
    "        print(\"This is not a number\")\n",
    "        return\n",
    "    \n",
    "    print(f\"this is the number is binary base {bin(num)}\")\n",
    "    print(f\"this is the number is hexadecimal base {hex(num)}\")\n",
    "    print(f\"this is the number is octal base {oct(num)}\")\n",
    "\n",
    "deminal_to_all_bases(12)"
   ]
  },
  {
   "cell_type": "markdown",
   "metadata": {},
   "source": [
    "## Question 2"
   ]
  },
  {
   "cell_type": "code",
   "execution_count": 3,
   "metadata": {
    "scrolled": true
   },
   "outputs": [
    {
     "name": "stdout",
     "output_type": "stream",
     "text": [
      "<class 'pandas.core.frame.DataFrame'>\n",
      "RangeIndex: 3333695 entries, 0 to 3333694\n",
      "Data columns (total 6 columns):\n",
      " #   Column     Dtype  \n",
      "---  ------     -----  \n",
      " 0   title      object \n",
      " 1   year       int64  \n",
      " 2   name       object \n",
      " 3   type       object \n",
      " 4   character  object \n",
      " 5   n          float64\n",
      "dtypes: float64(1), int64(1), object(4)\n",
      "memory usage: 152.6+ MB\n"
     ]
    }
   ],
   "source": [
    "cast_df.info()"
   ]
  },
  {
   "cell_type": "code",
   "execution_count": 4,
   "metadata": {
    "scrolled": true
   },
   "outputs": [
    {
     "data": {
      "text/html": [
       "<div>\n",
       "<style scoped>\n",
       "    .dataframe tbody tr th:only-of-type {\n",
       "        vertical-align: middle;\n",
       "    }\n",
       "\n",
       "    .dataframe tbody tr th {\n",
       "        vertical-align: top;\n",
       "    }\n",
       "\n",
       "    .dataframe thead th {\n",
       "        text-align: right;\n",
       "    }\n",
       "</style>\n",
       "<table border=\"1\" class=\"dataframe\">\n",
       "  <thead>\n",
       "    <tr style=\"text-align: right;\">\n",
       "      <th></th>\n",
       "      <th>title</th>\n",
       "      <th>year</th>\n",
       "      <th>name</th>\n",
       "      <th>type</th>\n",
       "      <th>character</th>\n",
       "      <th>n</th>\n",
       "    </tr>\n",
       "  </thead>\n",
       "  <tbody>\n",
       "    <tr>\n",
       "      <th>0</th>\n",
       "      <td>Suuri illusioni</td>\n",
       "      <td>1985</td>\n",
       "      <td>Homo $</td>\n",
       "      <td>actor</td>\n",
       "      <td>Guests</td>\n",
       "      <td>22.0</td>\n",
       "    </tr>\n",
       "    <tr>\n",
       "      <th>1</th>\n",
       "      <td>Gangsta Rap: The Glockumentary</td>\n",
       "      <td>2007</td>\n",
       "      <td>Too $hort</td>\n",
       "      <td>actor</td>\n",
       "      <td>Himself</td>\n",
       "      <td>NaN</td>\n",
       "    </tr>\n",
       "    <tr>\n",
       "      <th>2</th>\n",
       "      <td>Menace II Society</td>\n",
       "      <td>1993</td>\n",
       "      <td>Too $hort</td>\n",
       "      <td>actor</td>\n",
       "      <td>Lew-Loc</td>\n",
       "      <td>27.0</td>\n",
       "    </tr>\n",
       "    <tr>\n",
       "      <th>3</th>\n",
       "      <td>Porndogs: The Adventures of Sadie</td>\n",
       "      <td>2009</td>\n",
       "      <td>Too $hort</td>\n",
       "      <td>actor</td>\n",
       "      <td>Bosco</td>\n",
       "      <td>3.0</td>\n",
       "    </tr>\n",
       "    <tr>\n",
       "      <th>4</th>\n",
       "      <td>Stop Pepper Palmer</td>\n",
       "      <td>2014</td>\n",
       "      <td>Too $hort</td>\n",
       "      <td>actor</td>\n",
       "      <td>Himself</td>\n",
       "      <td>NaN</td>\n",
       "    </tr>\n",
       "    <tr>\n",
       "      <th>5</th>\n",
       "      <td>Townbiz</td>\n",
       "      <td>2010</td>\n",
       "      <td>Too $hort</td>\n",
       "      <td>actor</td>\n",
       "      <td>Himself</td>\n",
       "      <td>NaN</td>\n",
       "    </tr>\n",
       "    <tr>\n",
       "      <th>6</th>\n",
       "      <td>For Thy Love 2</td>\n",
       "      <td>2009</td>\n",
       "      <td>Bee Moe $lim</td>\n",
       "      <td>actor</td>\n",
       "      <td>Thug 1</td>\n",
       "      <td>NaN</td>\n",
       "    </tr>\n",
       "    <tr>\n",
       "      <th>7</th>\n",
       "      <td>Desire (III)</td>\n",
       "      <td>2014</td>\n",
       "      <td>Syaiful 'Ariffin</td>\n",
       "      <td>actor</td>\n",
       "      <td>Actor Playing Eteocles from 'Antigone'</td>\n",
       "      <td>NaN</td>\n",
       "    </tr>\n",
       "    <tr>\n",
       "      <th>8</th>\n",
       "      <td>When the Man Went South</td>\n",
       "      <td>2014</td>\n",
       "      <td>Taipaleti 'Atu'ake</td>\n",
       "      <td>actor</td>\n",
       "      <td>Two Palms - Ua'i Paame</td>\n",
       "      <td>8.0</td>\n",
       "    </tr>\n",
       "    <tr>\n",
       "      <th>9</th>\n",
       "      <td>Little Angel (Angelita)</td>\n",
       "      <td>2015</td>\n",
       "      <td>Michael 'babeepower' Viera</td>\n",
       "      <td>actor</td>\n",
       "      <td>Chico</td>\n",
       "      <td>9.0</td>\n",
       "    </tr>\n",
       "  </tbody>\n",
       "</table>\n",
       "</div>"
      ],
      "text/plain": [
       "                               title  year                        name   type  \\\n",
       "0                    Suuri illusioni  1985                      Homo $  actor   \n",
       "1     Gangsta Rap: The Glockumentary  2007                   Too $hort  actor   \n",
       "2                  Menace II Society  1993                   Too $hort  actor   \n",
       "3  Porndogs: The Adventures of Sadie  2009                   Too $hort  actor   \n",
       "4                 Stop Pepper Palmer  2014                   Too $hort  actor   \n",
       "5                            Townbiz  2010                   Too $hort  actor   \n",
       "6                     For Thy Love 2  2009                Bee Moe $lim  actor   \n",
       "7                       Desire (III)  2014            Syaiful 'Ariffin  actor   \n",
       "8            When the Man Went South  2014          Taipaleti 'Atu'ake  actor   \n",
       "9            Little Angel (Angelita)  2015  Michael 'babeepower' Viera  actor   \n",
       "\n",
       "                                character     n  \n",
       "0                                  Guests  22.0  \n",
       "1                                 Himself   NaN  \n",
       "2                                 Lew-Loc  27.0  \n",
       "3                                   Bosco   3.0  \n",
       "4                                 Himself   NaN  \n",
       "5                                 Himself   NaN  \n",
       "6                                  Thug 1   NaN  \n",
       "7  Actor Playing Eteocles from 'Antigone'   NaN  \n",
       "8                  Two Palms - Ua'i Paame   8.0  \n",
       "9                                   Chico   9.0  "
      ]
     },
     "execution_count": 4,
     "metadata": {},
     "output_type": "execute_result"
    }
   ],
   "source": [
    "cast_df.head(10)"
   ]
  },
  {
   "cell_type": "markdown",
   "metadata": {},
   "source": [
    "--------------"
   ]
  },
  {
   "cell_type": "markdown",
   "metadata": {},
   "source": [
    "# Section 2"
   ]
  },
  {
   "cell_type": "markdown",
   "metadata": {},
   "source": [
    "## Question 1\n",
    "There are 2 version for the answer since I wasn't sure about the contains or equals "
   ]
  },
  {
   "cell_type": "code",
   "execution_count": 5,
   "metadata": {
    "scrolled": true
   },
   "outputs": [
    {
     "data": {
      "text/plain": [
       "49"
      ]
     },
     "execution_count": 5,
     "metadata": {},
     "output_type": "execute_result"
    }
   ],
   "source": [
    "title_has_hamlet = cast_df.loc[cast_df[\"title\"].str.contains(\"Hamlet\")][[\"title\",\"year\"]]\n",
    "\n",
    "hamlet_movies_count = title_has_hamlet.drop_duplicates().groupby([\"year\"])[\"title\"].value_counts().count()\n",
    "\n",
    "hamlet_movies_count\n"
   ]
  },
  {
   "cell_type": "code",
   "execution_count": 6,
   "metadata": {},
   "outputs": [
    {
     "data": {
      "text/plain": [
       "17"
      ]
     },
     "execution_count": 6,
     "metadata": {},
     "output_type": "execute_result"
    }
   ],
   "source": [
    "title_has_hamlet = cast_df.loc[cast_df[\"title\"]==\"Hamlet\"][[\"title\",\"year\"]]\n",
    "\n",
    "hamlet_movies_count = title_has_hamlet.drop_duplicates().groupby([\"year\"])[\"title\"].value_counts().count()\n",
    "\n",
    "hamlet_movies_count\n"
   ]
  },
  {
   "cell_type": "markdown",
   "metadata": {},
   "source": [
    "## Question 2\n",
    "There are 2 version for the answer since I wasn't sure about the contains or equals "
   ]
  },
  {
   "cell_type": "code",
   "execution_count": 7,
   "metadata": {
    "scrolled": false
   },
   "outputs": [
    {
     "data": {
      "text/html": [
       "<div>\n",
       "<style scoped>\n",
       "    .dataframe tbody tr th:only-of-type {\n",
       "        vertical-align: middle;\n",
       "    }\n",
       "\n",
       "    .dataframe tbody tr th {\n",
       "        vertical-align: top;\n",
       "    }\n",
       "\n",
       "    .dataframe thead th {\n",
       "        text-align: right;\n",
       "    }\n",
       "</style>\n",
       "<table border=\"1\" class=\"dataframe\">\n",
       "  <thead>\n",
       "    <tr style=\"text-align: right;\">\n",
       "      <th></th>\n",
       "      <th>year</th>\n",
       "      <th>title</th>\n",
       "    </tr>\n",
       "  </thead>\n",
       "  <tbody>\n",
       "    <tr>\n",
       "      <th>0</th>\n",
       "      <td>1918</td>\n",
       "      <td>Treasure Island</td>\n",
       "    </tr>\n",
       "    <tr>\n",
       "      <th>1</th>\n",
       "      <td>1920</td>\n",
       "      <td>Treasure Island</td>\n",
       "    </tr>\n",
       "    <tr>\n",
       "      <th>2</th>\n",
       "      <td>1934</td>\n",
       "      <td>Treasure Island</td>\n",
       "    </tr>\n",
       "    <tr>\n",
       "      <th>3</th>\n",
       "      <td>1938</td>\n",
       "      <td>The Secret of Treasure Island</td>\n",
       "    </tr>\n",
       "    <tr>\n",
       "      <th>4</th>\n",
       "      <td>1939</td>\n",
       "      <td>Charlie Chan at Treasure Island</td>\n",
       "    </tr>\n",
       "    <tr>\n",
       "      <th>5</th>\n",
       "      <td>1950</td>\n",
       "      <td>Treasure Island</td>\n",
       "    </tr>\n",
       "    <tr>\n",
       "      <th>6</th>\n",
       "      <td>1954</td>\n",
       "      <td>Return to Treasure Island</td>\n",
       "    </tr>\n",
       "    <tr>\n",
       "      <th>7</th>\n",
       "      <td>1957</td>\n",
       "      <td>Five on a Treasure Island</td>\n",
       "    </tr>\n",
       "    <tr>\n",
       "      <th>8</th>\n",
       "      <td>1972</td>\n",
       "      <td>Treasure Island</td>\n",
       "    </tr>\n",
       "    <tr>\n",
       "      <th>9</th>\n",
       "      <td>1973</td>\n",
       "      <td>Treasure Island</td>\n",
       "    </tr>\n",
       "    <tr>\n",
       "      <th>10</th>\n",
       "      <td>1985</td>\n",
       "      <td>Treasure Island</td>\n",
       "    </tr>\n",
       "    <tr>\n",
       "      <th>11</th>\n",
       "      <td>1996</td>\n",
       "      <td>Muppet Treasure Island</td>\n",
       "    </tr>\n",
       "    <tr>\n",
       "      <th>12</th>\n",
       "      <td>1999</td>\n",
       "      <td>Treasure Island</td>\n",
       "    </tr>\n",
       "    <tr>\n",
       "      <th>13</th>\n",
       "      <td>1999</td>\n",
       "      <td>Treasure Island (II)</td>\n",
       "    </tr>\n",
       "    <tr>\n",
       "      <th>14</th>\n",
       "      <td>2006</td>\n",
       "      <td>Pirates of Treasure Island</td>\n",
       "    </tr>\n",
       "    <tr>\n",
       "      <th>15</th>\n",
       "      <td>2006</td>\n",
       "      <td>Treasure Island Kids: The Battle of Treasure I...</td>\n",
       "    </tr>\n",
       "    <tr>\n",
       "      <th>16</th>\n",
       "      <td>2006</td>\n",
       "      <td>Treasure Island Kids: The Monster of Treasure ...</td>\n",
       "    </tr>\n",
       "    <tr>\n",
       "      <th>17</th>\n",
       "      <td>2006</td>\n",
       "      <td>Treasure Island Kids: The Mystery of Treasure ...</td>\n",
       "    </tr>\n",
       "    <tr>\n",
       "      <th>18</th>\n",
       "      <td>2015</td>\n",
       "      <td>National Theatre Live: Treasure Island</td>\n",
       "    </tr>\n",
       "  </tbody>\n",
       "</table>\n",
       "</div>"
      ],
      "text/plain": [
       "    year                                              title\n",
       "0   1918                                    Treasure Island\n",
       "1   1920                                    Treasure Island\n",
       "2   1934                                    Treasure Island\n",
       "3   1938                      The Secret of Treasure Island\n",
       "4   1939                    Charlie Chan at Treasure Island\n",
       "5   1950                                    Treasure Island\n",
       "6   1954                          Return to Treasure Island\n",
       "7   1957                          Five on a Treasure Island\n",
       "8   1972                                    Treasure Island\n",
       "9   1973                                    Treasure Island\n",
       "10  1985                                    Treasure Island\n",
       "11  1996                             Muppet Treasure Island\n",
       "12  1999                                    Treasure Island\n",
       "13  1999                               Treasure Island (II)\n",
       "14  2006                         Pirates of Treasure Island\n",
       "15  2006  Treasure Island Kids: The Battle of Treasure I...\n",
       "16  2006  Treasure Island Kids: The Monster of Treasure ...\n",
       "17  2006  Treasure Island Kids: The Mystery of Treasure ...\n",
       "18  2015             National Theatre Live: Treasure Island"
      ]
     },
     "execution_count": 7,
     "metadata": {},
     "output_type": "execute_result"
    }
   ],
   "source": [
    "treasure_island_movies = cast_df.loc[cast_df[\"title\"].str.contains(\"Treasure Island\")]\n",
    "\n",
    "\n",
    "treasure_island_movies_grouped = treasure_island_movies.groupby(\"title\")\n",
    "\n",
    "treasure_island_movies.groupby(['year','title']).sum().reset_index()[[\"year\",\"title\"]]"
   ]
  },
  {
   "cell_type": "code",
   "execution_count": 8,
   "metadata": {},
   "outputs": [
    {
     "data": {
      "text/html": [
       "<div>\n",
       "<style scoped>\n",
       "    .dataframe tbody tr th:only-of-type {\n",
       "        vertical-align: middle;\n",
       "    }\n",
       "\n",
       "    .dataframe tbody tr th {\n",
       "        vertical-align: top;\n",
       "    }\n",
       "\n",
       "    .dataframe thead th {\n",
       "        text-align: right;\n",
       "    }\n",
       "</style>\n",
       "<table border=\"1\" class=\"dataframe\">\n",
       "  <thead>\n",
       "    <tr style=\"text-align: right;\">\n",
       "      <th></th>\n",
       "      <th>year</th>\n",
       "      <th>title</th>\n",
       "    </tr>\n",
       "  </thead>\n",
       "  <tbody>\n",
       "    <tr>\n",
       "      <th>0</th>\n",
       "      <td>1918</td>\n",
       "      <td>Treasure Island</td>\n",
       "    </tr>\n",
       "    <tr>\n",
       "      <th>1</th>\n",
       "      <td>1920</td>\n",
       "      <td>Treasure Island</td>\n",
       "    </tr>\n",
       "    <tr>\n",
       "      <th>2</th>\n",
       "      <td>1934</td>\n",
       "      <td>Treasure Island</td>\n",
       "    </tr>\n",
       "    <tr>\n",
       "      <th>3</th>\n",
       "      <td>1950</td>\n",
       "      <td>Treasure Island</td>\n",
       "    </tr>\n",
       "    <tr>\n",
       "      <th>4</th>\n",
       "      <td>1972</td>\n",
       "      <td>Treasure Island</td>\n",
       "    </tr>\n",
       "    <tr>\n",
       "      <th>5</th>\n",
       "      <td>1973</td>\n",
       "      <td>Treasure Island</td>\n",
       "    </tr>\n",
       "    <tr>\n",
       "      <th>6</th>\n",
       "      <td>1985</td>\n",
       "      <td>Treasure Island</td>\n",
       "    </tr>\n",
       "    <tr>\n",
       "      <th>7</th>\n",
       "      <td>1999</td>\n",
       "      <td>Treasure Island</td>\n",
       "    </tr>\n",
       "  </tbody>\n",
       "</table>\n",
       "</div>"
      ],
      "text/plain": [
       "   year            title\n",
       "0  1918  Treasure Island\n",
       "1  1920  Treasure Island\n",
       "2  1934  Treasure Island\n",
       "3  1950  Treasure Island\n",
       "4  1972  Treasure Island\n",
       "5  1973  Treasure Island\n",
       "6  1985  Treasure Island\n",
       "7  1999  Treasure Island"
      ]
     },
     "execution_count": 8,
     "metadata": {},
     "output_type": "execute_result"
    }
   ],
   "source": [
    "treasure_island_movies = cast_df.loc[cast_df[\"title\"]==\"Treasure Island\"]\n",
    "\n",
    "\n",
    "treasure_island_movies_grouped = treasure_island_movies.groupby(\"title\")\n",
    "\n",
    "treasure_island_movies.groupby(['year','title']).sum().reset_index()[[\"year\",\"title\"]]"
   ]
  },
  {
   "cell_type": "markdown",
   "metadata": {},
   "source": [
    "## Question 3"
   ]
  },
  {
   "cell_type": "code",
   "execution_count": 9,
   "metadata": {},
   "outputs": [
    {
     "data": {
      "text/plain": [
       "9"
      ]
     },
     "execution_count": 9,
     "metadata": {},
     "output_type": "execute_result"
    }
   ],
   "source": [
    "filtered_hamlet = cast_df.loc[(cast_df[\"title\"].str.contains(\"Hamlet\")) & (cast_df[\"year\"] == 1921)]\n",
    "\n",
    "len(filtered_hamlet[\"character\"].unique())"
   ]
  },
  {
   "cell_type": "code",
   "execution_count": 10,
   "metadata": {
    "scrolled": true
   },
   "outputs": [
    {
     "data": {
      "text/plain": [
       "9"
      ]
     },
     "execution_count": 10,
     "metadata": {},
     "output_type": "execute_result"
    }
   ],
   "source": [
    "len(cast_df.query('year ==1921 & title.str.contains(\"Hamlet\").values')[\"character\"].unique())"
   ]
  },
  {
   "cell_type": "markdown",
   "metadata": {},
   "source": [
    "## Question 4\n",
    "There are 2 version for the answer since I wasn't sure about the contains or equals "
   ]
  },
  {
   "cell_type": "code",
   "execution_count": 11,
   "metadata": {},
   "outputs": [
    {
     "data": {
      "text/plain": [
       "<AxesSubplot:xlabel='decade'>"
      ]
     },
     "execution_count": 11,
     "metadata": {},
     "output_type": "execute_result"
    },
    {
     "data": {
      "image/png": "[encoded data removed]",
      "text/plain": [
       "<Figure size 432x288 with 1 Axes>"
      ]
     },
     "metadata": {
      "needs_background": "light"
     },
     "output_type": "display_data"
    }
   ],
   "source": [
    "\n",
    "hamlet_movies = cast_df.loc[cast_df[\"title\"].str.contains(\"Hamlet\")][[\"title\",\"year\"]]\n",
    "\n",
    "hamlet_movies_by_decade = hamlet_movies.drop_duplicates().groupby([(hamlet_movies.year //10) * 10])\n",
    "\n",
    "aggregated_movies = hamlet_movies_by_decade[\"title\"].value_counts().to_frame().groupby(\"year\").sum()\n",
    "aggregated_movies.reset_index().rename(columns={'title' : 'amount of hamlet movies', 'year':'decade'}).plot.bar(x='decade',y='amount of hamlet movies')\n"
   ]
  },
  {
   "cell_type": "code",
   "execution_count": 12,
   "metadata": {},
   "outputs": [
    {
     "data": {
      "text/plain": [
       "<AxesSubplot:xlabel='decade'>"
      ]
     },
     "execution_count": 12,
     "metadata": {},
     "output_type": "execute_result"
    },
    {
     "data": {
      "image/png": "[encoded data removed]",
      "text/plain": [
       "<Figure size 432x288 with 1 Axes>"
      ]
     },
     "metadata": {
      "needs_background": "light"
     },
     "output_type": "display_data"
    }
   ],
   "source": [
    "hamlet_movies = cast_df.loc[cast_df[\"title\"]==\"Hamlet\"][[\"title\",\"year\"]]\n",
    "\n",
    "hamlet_movies_by_decade = hamlet_movies.drop_duplicates().groupby([(hamlet_movies.year //10) * 10])\n",
    "\n",
    "aggregated_movies = hamlet_movies_by_decade[\"title\"].value_counts().to_frame().groupby(\"year\").sum()\n",
    "aggregated_movies.reset_index().rename(columns={'title' : 'amount of hamlet movies', 'year':'decade'}).plot.bar(x='decade',y='amount of hamlet movies')\n"
   ]
  },
  {
   "cell_type": "markdown",
   "metadata": {},
   "source": [
    "## Question 5"
   ]
  },
  {
   "cell_type": "code",
   "execution_count": 13,
   "metadata": {
    "scrolled": false
   },
   "outputs": [
    {
     "data": {
      "text/plain": [
       "year  n    type   \n",
       "1950  1.0  actor      604\n",
       "           actress    271\n",
       "1951  1.0  actor      633\n",
       "           actress    272\n",
       "1952  1.0  actor      591\n",
       "           actress    284\n",
       "1953  1.0  actor      634\n",
       "           actress    290\n",
       "1954  1.0  actor      626\n",
       "           actress    298\n",
       "1955  1.0  actor      606\n",
       "           actress    264\n",
       "1956  1.0  actor      614\n",
       "           actress    288\n",
       "1957  1.0  actor      708\n",
       "           actress    284\n",
       "1958  1.0  actor      694\n",
       "           actress    275\n",
       "1959  1.0  actor      678\n",
       "           actress    287\n",
       "dtype: int64"
      ]
     },
     "execution_count": 13,
     "metadata": {},
     "output_type": "execute_result"
    }
   ],
   "source": [
    "filtered_to_fifties = cast_df.loc[(cast_df[\"year\"]<1960) & (cast_df[\"year\"]>=1950)]\n",
    "filtered_to_fifties.loc[filtered_to_fifties[\"n\"]==1].groupby([\"year\",\"n\",\"type\"]).size()\n"
   ]
  },
  {
   "cell_type": "markdown",
   "metadata": {},
   "source": [
    "## Question 6"
   ]
  },
  {
   "cell_type": "code",
   "execution_count": 14,
   "metadata": {
    "scrolled": true
   },
   "outputs": [
    {
     "name": "stdout",
     "output_type": "stream",
     "text": [
      "                     name    n  roles\n",
      "24175            Mohanlal  1.0    116\n",
      "21058           Mammootty  1.0    105\n",
      "666          Akshay Kumar  1.0     87\n",
      "14773             Jayaram  1.0     74\n",
      "611            Ajay Devgn  1.0     69\n",
      "2195             Andy Lau  1.0     68\n",
      "10113        Eric Roberts  1.0     67\n",
      "1661     Amitabh Bachchan  1.0     66\n",
      "24493  Nagarjuna Akkineni  1.0     59\n",
      "8793                Dilip  1.0     59\n"
     ]
    }
   ],
   "source": [
    "filtered_since_nineties = cast_df.loc[(cast_df[\"year\"]>1990) & (cast_df[\"n\"]==1)]\n",
    "                                      \n",
    "roles_per_actor_series = filtered_since_nineties.groupby(\"name\")[\"n\"].value_counts()\n",
    "\n",
    "roles_per_actor_frame = roles_per_actor_series.to_frame().rename(columns={'name':'actor_name','n':'roles'}).reset_index()\n",
    "\n",
    "print(roles_per_actor_frame.sort_values(by=['roles'],ascending=False).head(10))"
   ]
  },
  {
   "cell_type": "markdown",
   "metadata": {},
   "source": [
    "## Question 7"
   ]
  },
  {
   "cell_type": "code",
   "execution_count": 15,
   "metadata": {},
   "outputs": [
    {
     "data": {
      "text/html": [
       "<div>\n",
       "<style scoped>\n",
       "    .dataframe tbody tr th:only-of-type {\n",
       "        vertical-align: middle;\n",
       "    }\n",
       "\n",
       "    .dataframe tbody tr th {\n",
       "        vertical-align: top;\n",
       "    }\n",
       "\n",
       "    .dataframe thead th {\n",
       "        text-align: right;\n",
       "    }\n",
       "</style>\n",
       "<table border=\"1\" class=\"dataframe\">\n",
       "  <thead>\n",
       "    <tr style=\"text-align: right;\">\n",
       "      <th></th>\n",
       "      <th>title</th>\n",
       "      <th>year</th>\n",
       "      <th>name</th>\n",
       "      <th>number_of_roles</th>\n",
       "    </tr>\n",
       "  </thead>\n",
       "  <tbody>\n",
       "    <tr>\n",
       "      <th>21</th>\n",
       "      <td>The Muppet Movie</td>\n",
       "      <td>1979</td>\n",
       "      <td>Frank Oz</td>\n",
       "      <td>8</td>\n",
       "    </tr>\n",
       "    <tr>\n",
       "      <th>0</th>\n",
       "      <td>An American Werewolf in London</td>\n",
       "      <td>1981</td>\n",
       "      <td>Frank Oz</td>\n",
       "      <td>2</td>\n",
       "    </tr>\n",
       "    <tr>\n",
       "      <th>19</th>\n",
       "      <td>The Great Muppet Caper</td>\n",
       "      <td>1981</td>\n",
       "      <td>Frank Oz</td>\n",
       "      <td>6</td>\n",
       "    </tr>\n",
       "    <tr>\n",
       "      <th>18</th>\n",
       "      <td>The Dark Crystal</td>\n",
       "      <td>1982</td>\n",
       "      <td>Frank Oz</td>\n",
       "      <td>2</td>\n",
       "    </tr>\n",
       "    <tr>\n",
       "      <th>22</th>\n",
       "      <td>The Muppets Take Manhattan</td>\n",
       "      <td>1984</td>\n",
       "      <td>Frank Oz</td>\n",
       "      <td>7</td>\n",
       "    </tr>\n",
       "    <tr>\n",
       "      <th>8</th>\n",
       "      <td>Sesame Street Presents: Follow that Bird</td>\n",
       "      <td>1985</td>\n",
       "      <td>Frank Oz</td>\n",
       "      <td>3</td>\n",
       "    </tr>\n",
       "    <tr>\n",
       "      <th>20</th>\n",
       "      <td>The Muppet Christmas Carol</td>\n",
       "      <td>1992</td>\n",
       "      <td>Frank Oz</td>\n",
       "      <td>7</td>\n",
       "    </tr>\n",
       "    <tr>\n",
       "      <th>6</th>\n",
       "      <td>Muppet Treasure Island</td>\n",
       "      <td>1996</td>\n",
       "      <td>Frank Oz</td>\n",
       "      <td>4</td>\n",
       "    </tr>\n",
       "    <tr>\n",
       "      <th>7</th>\n",
       "      <td>Muppets from Space</td>\n",
       "      <td>1999</td>\n",
       "      <td>Frank Oz</td>\n",
       "      <td>4</td>\n",
       "    </tr>\n",
       "    <tr>\n",
       "      <th>16</th>\n",
       "      <td>The Adventures of Elmo in Grouchland</td>\n",
       "      <td>1999</td>\n",
       "      <td>Frank Oz</td>\n",
       "      <td>3</td>\n",
       "    </tr>\n",
       "  </tbody>\n",
       "</table>\n",
       "</div>"
      ],
      "text/plain": [
       "                                       title  year      name  number_of_roles\n",
       "21                          The Muppet Movie  1979  Frank Oz                8\n",
       "0             An American Werewolf in London  1981  Frank Oz                2\n",
       "19                    The Great Muppet Caper  1981  Frank Oz                6\n",
       "18                          The Dark Crystal  1982  Frank Oz                2\n",
       "22                The Muppets Take Manhattan  1984  Frank Oz                7\n",
       "8   Sesame Street Presents: Follow that Bird  1985  Frank Oz                3\n",
       "20                The Muppet Christmas Carol  1992  Frank Oz                7\n",
       "6                     Muppet Treasure Island  1996  Frank Oz                4\n",
       "7                         Muppets from Space  1999  Frank Oz                4\n",
       "16      The Adventures of Elmo in Grouchland  1999  Frank Oz                3"
      ]
     },
     "execution_count": 15,
     "metadata": {},
     "output_type": "execute_result"
    }
   ],
   "source": [
    "filtered_to_frank = cast_df.loc[cast_df[\"name\"]==\"Frank Oz\"]\n",
    "\n",
    "grouped_frank_films = filtered_to_frank.groupby([\"title\", \"year\"])[\"name\"].value_counts().to_frame()\n",
    "\n",
    "roles_per_film = grouped_frank_films.rename(columns={'name':'number_of_roles','year':'movie_year', \"title\":\"movie_title\"}).reset_index()\n",
    "\n",
    "roles_per_film.loc[roles_per_film[\"number_of_roles\"] >1].sort_values(by=['year'])"
   ]
  }
 ],
 "metadata": {
  "kernelspec": {
   "display_name": "Python 3",
   "language": "python",
   "name": "python3"
  },
  "language_info": {
   "codemirror_mode": {
    "name": "ipython",
    "version": 3
   },
   "file_extension": ".py",
   "mimetype": "text/x-python",
   "name": "python",
   "nbconvert_exporter": "python",
   "pygments_lexer": "ipython3",
   "version": "3.10.2"
  }
 },
 "nbformat": 4,
 "nbformat_minor": 4
}
