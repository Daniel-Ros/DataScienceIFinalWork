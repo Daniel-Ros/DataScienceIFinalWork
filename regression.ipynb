{
 "cells": [
  {
   "cell_type": "code",
   "execution_count": 1,
   "metadata": {},
   "outputs": [],
   "source": [
    "import sys \n",
    "\n",
    "import sklearn\n",
    "import numpy as np \n",
    "import os\n",
    "import pandas as pd\n",
    "import time\n",
    "\n",
    "import warnings\n",
    "warnings.filterwarnings('ignore')\n",
    "\n",
    "%matplotlib inline\n",
    "from sklearn.datasets import fetch_openml\n",
    "import matplotlib as mpl\n",
    "import matplotlib.pyplot as plt\n",
    "\n",
    "from IPython.utils import io\n",
    "\n",
    "import seaborn as sns"
   ]
  },
  {
   "cell_type": "markdown",
   "metadata": {},
   "source": [
    "## Cleaning the data"
   ]
  },
  {
   "cell_type": "code",
   "execution_count": 2,
   "metadata": {},
   "outputs": [],
   "source": [
    "df : pd.DataFrame = pd.read_csv('my_data.csv')"
   ]
  },
  {
   "cell_type": "code",
   "execution_count": 3,
   "metadata": {},
   "outputs": [
    {
     "data": {
      "text/html": [
       "<div>\n",
       "<style scoped>\n",
       "    .dataframe tbody tr th:only-of-type {\n",
       "        vertical-align: middle;\n",
       "    }\n",
       "\n",
       "    .dataframe tbody tr th {\n",
       "        vertical-align: top;\n",
       "    }\n",
       "\n",
       "    .dataframe thead th {\n",
       "        text-align: right;\n",
       "    }\n",
       "</style>\n",
       "<table border=\"1\" class=\"dataframe\">\n",
       "  <thead>\n",
       "    <tr style=\"text-align: right;\">\n",
       "      <th></th>\n",
       "      <th>Unnamed: 0</th>\n",
       "      <th>year</th>\n",
       "      <th>make</th>\n",
       "      <th>model</th>\n",
       "      <th>mileage</th>\n",
       "      <th>title</th>\n",
       "      <th>state of origin</th>\n",
       "      <th>engine size</th>\n",
       "      <th>engine type</th>\n",
       "      <th>drivetrain</th>\n",
       "      <th>transmmision type</th>\n",
       "      <th>number of gears</th>\n",
       "      <th>body_style</th>\n",
       "      <th>color</th>\n",
       "      <th>numberg of higlights</th>\n",
       "      <th>number of flaws</th>\n",
       "      <th>price</th>\n",
       "    </tr>\n",
       "  </thead>\n",
       "  <tbody>\n",
       "    <tr>\n",
       "      <th>0</th>\n",
       "      <td>0</td>\n",
       "      <td>1999</td>\n",
       "      <td>Mercedes-Benz</td>\n",
       "      <td>SL600</td>\n",
       "      <td>52,000</td>\n",
       "      <td>Clean</td>\n",
       "      <td>NJ</td>\n",
       "      <td>6.0L</td>\n",
       "      <td>V12</td>\n",
       "      <td>Rear-wheel drive</td>\n",
       "      <td>Automatic</td>\n",
       "      <td>5-Speed</td>\n",
       "      <td>Convertible</td>\n",
       "      <td>Black</td>\n",
       "      <td>5</td>\n",
       "      <td>3</td>\n",
       "      <td>$30,500</td>\n",
       "    </tr>\n",
       "    <tr>\n",
       "      <th>1</th>\n",
       "      <td>1</td>\n",
       "      <td>2017</td>\n",
       "      <td>BMW</td>\n",
       "      <td>330i</td>\n",
       "      <td>43,400</td>\n",
       "      <td>Clean</td>\n",
       "      <td>KS</td>\n",
       "      <td>2.0L</td>\n",
       "      <td>I4</td>\n",
       "      <td>4WD/AWD</td>\n",
       "      <td>Automatic</td>\n",
       "      <td>8-Speed</td>\n",
       "      <td>Wagon</td>\n",
       "      <td>Glacier Silver</td>\n",
       "      <td>6</td>\n",
       "      <td>4</td>\n",
       "      <td>$41,500</td>\n",
       "    </tr>\n",
       "    <tr>\n",
       "      <th>2</th>\n",
       "      <td>2</td>\n",
       "      <td>2008</td>\n",
       "      <td>MINI</td>\n",
       "      <td>Cooper Clubman</td>\n",
       "      <td>104,100</td>\n",
       "      <td>Clean</td>\n",
       "      <td>TN</td>\n",
       "      <td>1.6L</td>\n",
       "      <td>I4</td>\n",
       "      <td>Front-wheel drive</td>\n",
       "      <td>Manual</td>\n",
       "      <td>6-Speed</td>\n",
       "      <td>Wagon</td>\n",
       "      <td>Hot Chocolate Metallic</td>\n",
       "      <td>5</td>\n",
       "      <td>11</td>\n",
       "      <td>$9,969</td>\n",
       "    </tr>\n",
       "    <tr>\n",
       "      <th>3</th>\n",
       "      <td>3</td>\n",
       "      <td>2013</td>\n",
       "      <td>Porsche</td>\n",
       "      <td>Cayenne</td>\n",
       "      <td>82,400</td>\n",
       "      <td>Clean</td>\n",
       "      <td>CA</td>\n",
       "      <td>4.8L</td>\n",
       "      <td>V8</td>\n",
       "      <td>4WD/AWD</td>\n",
       "      <td>Automatic</td>\n",
       "      <td>8-Speed</td>\n",
       "      <td>SUV/Crossover</td>\n",
       "      <td>Meteor Grey Metallic</td>\n",
       "      <td>4</td>\n",
       "      <td>2</td>\n",
       "      <td>$29,000</td>\n",
       "    </tr>\n",
       "    <tr>\n",
       "      <th>4</th>\n",
       "      <td>4</td>\n",
       "      <td>2019</td>\n",
       "      <td>Chevrolet</td>\n",
       "      <td>Camaro</td>\n",
       "      <td>9,500</td>\n",
       "      <td>Clean</td>\n",
       "      <td>NY</td>\n",
       "      <td>6.2L</td>\n",
       "      <td>V8</td>\n",
       "      <td>Rear-wheel drive</td>\n",
       "      <td>Automatic</td>\n",
       "      <td>10-Speed</td>\n",
       "      <td>Coupe</td>\n",
       "      <td>Riverside Blue Metallic</td>\n",
       "      <td>4</td>\n",
       "      <td>3</td>\n",
       "      <td>$60,333</td>\n",
       "    </tr>\n",
       "  </tbody>\n",
       "</table>\n",
       "</div>"
      ],
      "text/plain": [
       "   Unnamed: 0  year           make           model  mileage  title  \\\n",
       "0           0  1999  Mercedes-Benz           SL600   52,000  Clean   \n",
       "1           1  2017            BMW            330i   43,400  Clean   \n",
       "2           2  2008           MINI  Cooper Clubman  104,100  Clean   \n",
       "3           3  2013        Porsche         Cayenne   82,400  Clean   \n",
       "4           4  2019      Chevrolet          Camaro    9,500  Clean   \n",
       "\n",
       "  state of origin engine size engine type         drivetrain  \\\n",
       "0              NJ        6.0L         V12   Rear-wheel drive   \n",
       "1              KS        2.0L          I4            4WD/AWD   \n",
       "2              TN        1.6L          I4  Front-wheel drive   \n",
       "3              CA        4.8L          V8            4WD/AWD   \n",
       "4              NY        6.2L          V8   Rear-wheel drive   \n",
       "\n",
       "  transmmision type number of gears     body_style                    color  \\\n",
       "0         Automatic         5-Speed    Convertible                    Black   \n",
       "1         Automatic         8-Speed          Wagon           Glacier Silver   \n",
       "2            Manual         6-Speed          Wagon   Hot Chocolate Metallic   \n",
       "3         Automatic         8-Speed  SUV/Crossover     Meteor Grey Metallic   \n",
       "4         Automatic        10-Speed          Coupe  Riverside Blue Metallic   \n",
       "\n",
       "   numberg of higlights  number of flaws    price  \n",
       "0                     5                3  $30,500  \n",
       "1                     6                4  $41,500  \n",
       "2                     5               11   $9,969  \n",
       "3                     4                2  $29,000  \n",
       "4                     4                3  $60,333  "
      ]
     },
     "execution_count": 3,
     "metadata": {},
     "output_type": "execute_result"
    }
   ],
   "source": [
    "df.head()"
   ]
  },
  {
   "cell_type": "markdown",
   "metadata": {},
   "source": [
    "in one page there was no year of prduction, insted it was \"Consumer\" somthing.. so I just deleted this row,  + the Unamed:0 colum the was the resualt of combing of all the dataframes from the scrapper."
   ]
  },
  {
   "cell_type": "code",
   "execution_count": 4,
   "metadata": {},
   "outputs": [],
   "source": [
    "df = df.drop(\"Unnamed: 0\",axis=1)\n",
    "df = df.drop(df.loc[df['year'] == '\"Consumer'].index)"
   ]
  },
  {
   "cell_type": "markdown",
   "metadata": {},
   "source": [
    "### fixing the numerical columns\n",
    "\n",
    "Some columns are in numbers, but becuase there was a charecter in them ('$',',','L') so I needed to prase the change them to numerical data(int/float)"
   ]
  },
  {
   "cell_type": "markdown",
   "metadata": {},
   "source": [
    "In the price column all we need to do is to remove the '$' symbol infront and remove the ','"
   ]
  },
  {
   "cell_type": "code",
   "execution_count": 5,
   "metadata": {},
   "outputs": [],
   "source": [
    "df[\"price\"] = df[\"price\"].apply(lambda x: x[1:])\n",
    "df[\"price\"] = df[\"price\"].apply(lambda x: x.replace(\",\",\"\"))"
   ]
  },
  {
   "cell_type": "markdown",
   "metadata": {},
   "source": [
    "In the mileage column, we remove the ',' smbol as well as the '~' symbol that were on one car.\n",
    "moreover their were some comments on the mileage column, that said xxxx miles on the odometer, I also got rid of them."
   ]
  },
  {
   "cell_type": "code",
   "execution_count": 6,
   "metadata": {},
   "outputs": [],
   "source": [
    "def get_miles_from_str(x):\n",
    "    if isinstance(x,int):\n",
    "        return x\n",
    "    x = x.replace(\",\",\"\")\n",
    "    x = x.split(\" \")[0]\n",
    "    x = x.replace(\"~\",\"\")\n",
    "    if x[0].isdigit():\n",
    "        return x\n",
    "    return 0\n",
    "\n",
    "df[\"mileage\"] = df[\"mileage\"].apply(lambda x: get_miles_from_str(x))"
   ]
  },
  {
   "cell_type": "markdown",
   "metadata": {},
   "source": [
    "In the engine colum their were more problems. Some were electric, some in Liters, some in cc and some were completlly missing.\n",
    "I fixed the missing manually by checking simmilar cars. \n",
    "all of the Electric cars were given 0 engine size, and all the other car's engine size were represented in cc"
   ]
  },
  {
   "cell_type": "code",
   "execution_count": 7,
   "metadata": {},
   "outputs": [],
   "source": [
    "df[\"engine size\"] = df[\"engine size\"].replace(['Single','Dual','Triple','AC'],0)\n",
    "def convert(x : str):\n",
    "    if isinstance(x,int):\n",
    "        return x\n",
    "    elif \"cc\" in x:\n",
    "        x = x.replace(\"cc\",\"\")\n",
    "    elif \"L\" in x:\n",
    "        x = x.replace(\"L\",\"\")\n",
    "        x = x.replace(\".\",\"\")\n",
    "        for i in range(0,4 -len(x)):\n",
    "            x = x + \"0\"\n",
    "    elif \".\" in x:\n",
    "        x = x.replace(\".\",\"\")\n",
    "        for i in range(0,4 -len(x)):\n",
    "            x = x + \"0\"\n",
    "\n",
    "    return x\n",
    "\n",
    "df[\"engine size\"] = df[\"engine size\"].apply(convert)\n",
    "\n",
    "\n",
    "df.loc[df[\"engine size\"] == \"Toronto\",\"engine size\"] = 5700\n",
    "df.loc[df[\"engine size\"] == \"Chevrolet\",\"engine size\"] = 3200\n",
    "df.loc[df[\"engine size\"] == \"AC\",\"engine size\"] = 0\n",
    "df.loc[df[\"engine size\"] == \"EV\",\"engine size\"] = 0\n",
    "df.iloc[3834,6] = 4600\n",
    "df.iloc[3926,6] = 4000"
   ]
  },
  {
   "cell_type": "markdown",
   "metadata": {},
   "source": [
    "again, not all post were equal. So I had to fix it manually.\n",
    "\n",
    "I also combined all the same engines, that had different names like \"I4\", \"Inline-4\",\"i-4\" etc..."
   ]
  },
  {
   "cell_type": "code",
   "execution_count": 8,
   "metadata": {},
   "outputs": [],
   "source": [
    "df.loc[df[\"engine type\"] == \"Canada\",\"engine type\"] = \"Flat-6\"\n",
    "df.loc[df[\"engine type\"] == \"Supercharged\",\"engine type\"] = \"V6\"\n",
    "df.loc[df[\"engine type\"] == \"Diesel\",\"engine type\"] = \"I4\"\n",
    "df.loc[df[\"engine type\"] == \"3.0L\",\"engine type\"] = \"I6\"\n",
    "df.loc[df[\"engine type\"] == \"turbodiesel\",\"engine type\"] = \"I6\"\n",
    "df.loc[df[\"engine type\"] == \"I-6\",\"engine type\"] = \"I6\"\n",
    "df.loc[df[\"engine type\"] == \"Turbodiesel\",\"engine type\"] = \"V6\"\n",
    "df.loc[df[\"engine type\"] == \"Turbo\",\"engine type\"] = \"I4\"\n",
    "df.loc[df[\"engine type\"] == \"4\",\"engine type\"] = \"Flat-4\"\n",
    "df.loc[df[\"engine type\"] == \"6\",\"engine type\"] = \"Flat-6\"\n",
    "df.loc[df[\"engine type\"] == \"Inline-4\",\"engine type\"] = \"I4\"\n",
    "df.loc[df[\"engine type\"] == \"i4\",\"engine type\"] = \"I4\"\n",
    "df.loc[df[\"engine type\"] == \"I-4\",\"engine type\"] = \"I4\"\n",
    "df.loc[df[\"engine type\"] == \"I-3\",\"engine type\"] = \"I3\"\n",
    "df.loc[df[\"engine type\"] == \"Hybrid\",\"engine type\"] = \"V6\"\n",
    "df.loc[df[\"engine type\"] == \"H6\",\"engine type\"] = \"Flat-6\"\n",
    "df.loc[df[\"engine type\"] == \"H4\",\"engine type\"] = \"Flat-4\"\n",
    "df.loc[df[\"engine size\"] == 0,\"engine type\"] = \"electric\""
   ]
  },
  {
   "cell_type": "markdown",
   "metadata": {},
   "source": [
    "I changed the number of gears, so that I have this column in integers. and again' needed to fix some values manually"
   ]
  },
  {
   "cell_type": "code",
   "execution_count": 9,
   "metadata": {},
   "outputs": [],
   "source": [
    "df.loc[df[\"number of gears\"] == \"3.6L V6\",\"number of gears\"] = \"6-speed\"\n",
    "def simplefy_gears(x:str):\n",
    "    if not isinstance(x,str):\n",
    "        return 0\n",
    "    if x == \"CVT\":\n",
    "        return -1\n",
    "    x = x.split(\"-\")[0]\n",
    "    return x\n",
    "\n",
    "df[\"number of gears\"] = df[\"number of gears\"].apply(simplefy_gears)"
   ]
  },
  {
   "cell_type": "markdown",
   "metadata": {},
   "source": [
    "There were to many collor. So I grouped all of them together"
   ]
  },
  {
   "cell_type": "code",
   "execution_count": 10,
   "metadata": {},
   "outputs": [],
   "source": [
    "def simplefy_color(x : str):\n",
    "    if \"white\" in x.lower():\n",
    "        x = \"white\"\n",
    "    elif \"black\" in x.lower():\n",
    "        x = \"black\"\n",
    "    elif \"red\" in x.lower():\n",
    "        x = \"red\"\n",
    "    elif \"blue\" in x.lower():\n",
    "        x = \"blue\"\n",
    "    elif \"yellow\" in x.lower():\n",
    "        x = \"yellow\"\n",
    "    elif \"grey\" in x.lower():\n",
    "        x = \"grey\"\n",
    "    elif \"green\" in x.lower():\n",
    "        x = \"green\"\n",
    "    elif \"silver\" in x.lower():\n",
    "        x = \"silver\"\n",
    "    elif \"orange\" in x.lower():\n",
    "        x = \"orange\"\n",
    "    elif \"metallic\" in x.lower():\n",
    "        x = \"metallic\"\n",
    "    elif \"pearl\" in x.lower():\n",
    "        x = \"pearl\"\n",
    "    elif \"gold\" in x.lower():\n",
    "        x = \"gold\"\n",
    "    elif \"beige\" in x.lower():\n",
    "        x = \"beige\"\n",
    "    else:\n",
    "        x = \"special\"\n",
    "\n",
    "    return x\n",
    "\n",
    "df[\"color\"] = df[\"color\"].apply(simplefy_color)"
   ]
  },
  {
   "cell_type": "code",
   "execution_count": 11,
   "metadata": {},
   "outputs": [],
   "source": [
    "df[\"price\"] = df['price'].astype(str).astype(int)\n",
    "df[\"mileage\"] = df['mileage'].astype(str).astype(int)\n",
    "df[\"year\"] = df['year'].astype(str).astype(int)\n",
    "df[\"engine size\"] = df['engine size'].astype(str).astype(int)\n",
    "df[\"number of gears\"] = df['number of gears'].astype(str).astype(int)"
   ]
  },
  {
   "cell_type": "markdown",
   "metadata": {},
   "source": [
    "Almost all of the cars were clean, so that data does not make differance, and we can drop it"
   ]
  },
  {
   "cell_type": "code",
   "execution_count": 12,
   "metadata": {},
   "outputs": [],
   "source": [
    "df = df.drop(\"title\",axis=1)"
   ]
  },
  {
   "cell_type": "markdown",
   "metadata": {},
   "source": [
    "I combined this cloumn to describe how detailed was the post. It made sense that a more detailed post, were bidded higher"
   ]
  },
  {
   "cell_type": "code",
   "execution_count": 13,
   "metadata": {},
   "outputs": [],
   "source": [
    "df[\"is descreptive\"] = df[\"numberg of higlights\"] + df[\"number of flaws\"] > 15\n",
    "df[\"is descreptive\"] = df[\"is descreptive\"].map({\n",
    "    True: 1,\n",
    "    False: 0\n",
    "})\n",
    "\n",
    "df = df.drop([\"numberg of higlights\",\"number of flaws\"],axis=1)"
   ]
  },
  {
   "cell_type": "code",
   "execution_count": 14,
   "metadata": {},
   "outputs": [
    {
     "data": {
      "text/html": [
       "<div>\n",
       "<style scoped>\n",
       "    .dataframe tbody tr th:only-of-type {\n",
       "        vertical-align: middle;\n",
       "    }\n",
       "\n",
       "    .dataframe tbody tr th {\n",
       "        vertical-align: top;\n",
       "    }\n",
       "\n",
       "    .dataframe thead th {\n",
       "        text-align: right;\n",
       "    }\n",
       "</style>\n",
       "<table border=\"1\" class=\"dataframe\">\n",
       "  <thead>\n",
       "    <tr style=\"text-align: right;\">\n",
       "      <th></th>\n",
       "      <th>year</th>\n",
       "      <th>make</th>\n",
       "      <th>model</th>\n",
       "      <th>mileage</th>\n",
       "      <th>state of origin</th>\n",
       "      <th>engine size</th>\n",
       "      <th>engine type</th>\n",
       "      <th>drivetrain</th>\n",
       "      <th>transmmision type</th>\n",
       "      <th>number of gears</th>\n",
       "      <th>body_style</th>\n",
       "      <th>color</th>\n",
       "      <th>price</th>\n",
       "      <th>is descreptive</th>\n",
       "    </tr>\n",
       "  </thead>\n",
       "  <tbody>\n",
       "    <tr>\n",
       "      <th>count</th>\n",
       "      <td>5419.000000</td>\n",
       "      <td>5419</td>\n",
       "      <td>5419</td>\n",
       "      <td>5419.000000</td>\n",
       "      <td>5419</td>\n",
       "      <td>5419.000000</td>\n",
       "      <td>5419</td>\n",
       "      <td>5419</td>\n",
       "      <td>5419</td>\n",
       "      <td>5419.000000</td>\n",
       "      <td>5419</td>\n",
       "      <td>5419</td>\n",
       "      <td>5419.000000</td>\n",
       "      <td>5419.000000</td>\n",
       "    </tr>\n",
       "    <tr>\n",
       "      <th>unique</th>\n",
       "      <td>NaN</td>\n",
       "      <td>93</td>\n",
       "      <td>783</td>\n",
       "      <td>NaN</td>\n",
       "      <td>64</td>\n",
       "      <td>NaN</td>\n",
       "      <td>18</td>\n",
       "      <td>3</td>\n",
       "      <td>2</td>\n",
       "      <td>NaN</td>\n",
       "      <td>8</td>\n",
       "      <td>14</td>\n",
       "      <td>NaN</td>\n",
       "      <td>NaN</td>\n",
       "    </tr>\n",
       "    <tr>\n",
       "      <th>top</th>\n",
       "      <td>NaN</td>\n",
       "      <td>BMW</td>\n",
       "      <td>911</td>\n",
       "      <td>NaN</td>\n",
       "      <td>CA</td>\n",
       "      <td>NaN</td>\n",
       "      <td>V8</td>\n",
       "      <td>Rear-wheel drive</td>\n",
       "      <td>Automatic</td>\n",
       "      <td>NaN</td>\n",
       "      <td>Sedan</td>\n",
       "      <td>black</td>\n",
       "      <td>NaN</td>\n",
       "      <td>NaN</td>\n",
       "    </tr>\n",
       "    <tr>\n",
       "      <th>freq</th>\n",
       "      <td>NaN</td>\n",
       "      <td>1017</td>\n",
       "      <td>146</td>\n",
       "      <td>NaN</td>\n",
       "      <td>1038</td>\n",
       "      <td>NaN</td>\n",
       "      <td>2034</td>\n",
       "      <td>2948</td>\n",
       "      <td>3149</td>\n",
       "      <td>NaN</td>\n",
       "      <td>1358</td>\n",
       "      <td>1164</td>\n",
       "      <td>NaN</td>\n",
       "      <td>NaN</td>\n",
       "    </tr>\n",
       "    <tr>\n",
       "      <th>mean</th>\n",
       "      <td>2004.143015</td>\n",
       "      <td>NaN</td>\n",
       "      <td>NaN</td>\n",
       "      <td>78872.090238</td>\n",
       "      <td>NaN</td>\n",
       "      <td>3714.847204</td>\n",
       "      <td>NaN</td>\n",
       "      <td>NaN</td>\n",
       "      <td>NaN</td>\n",
       "      <td>5.539029</td>\n",
       "      <td>NaN</td>\n",
       "      <td>NaN</td>\n",
       "      <td>23781.286584</td>\n",
       "      <td>0.132681</td>\n",
       "    </tr>\n",
       "    <tr>\n",
       "      <th>std</th>\n",
       "      <td>9.439459</td>\n",
       "      <td>NaN</td>\n",
       "      <td>NaN</td>\n",
       "      <td>54907.551792</td>\n",
       "      <td>NaN</td>\n",
       "      <td>1473.926754</td>\n",
       "      <td>NaN</td>\n",
       "      <td>NaN</td>\n",
       "      <td>NaN</td>\n",
       "      <td>1.316372</td>\n",
       "      <td>NaN</td>\n",
       "      <td>NaN</td>\n",
       "      <td>25207.455644</td>\n",
       "      <td>0.339261</td>\n",
       "    </tr>\n",
       "    <tr>\n",
       "      <th>min</th>\n",
       "      <td>1981.000000</td>\n",
       "      <td>NaN</td>\n",
       "      <td>NaN</td>\n",
       "      <td>0.000000</td>\n",
       "      <td>NaN</td>\n",
       "      <td>0.000000</td>\n",
       "      <td>NaN</td>\n",
       "      <td>NaN</td>\n",
       "      <td>NaN</td>\n",
       "      <td>-1.000000</td>\n",
       "      <td>NaN</td>\n",
       "      <td>NaN</td>\n",
       "      <td>1800.000000</td>\n",
       "      <td>0.000000</td>\n",
       "    </tr>\n",
       "    <tr>\n",
       "      <th>25%</th>\n",
       "      <td>1998.000000</td>\n",
       "      <td>NaN</td>\n",
       "      <td>NaN</td>\n",
       "      <td>37900.000000</td>\n",
       "      <td>NaN</td>\n",
       "      <td>2500.000000</td>\n",
       "      <td>NaN</td>\n",
       "      <td>NaN</td>\n",
       "      <td>NaN</td>\n",
       "      <td>5.000000</td>\n",
       "      <td>NaN</td>\n",
       "      <td>NaN</td>\n",
       "      <td>9400.000000</td>\n",
       "      <td>0.000000</td>\n",
       "    </tr>\n",
       "    <tr>\n",
       "      <th>50%</th>\n",
       "      <td>2005.000000</td>\n",
       "      <td>NaN</td>\n",
       "      <td>NaN</td>\n",
       "      <td>69900.000000</td>\n",
       "      <td>NaN</td>\n",
       "      <td>3500.000000</td>\n",
       "      <td>NaN</td>\n",
       "      <td>NaN</td>\n",
       "      <td>NaN</td>\n",
       "      <td>6.000000</td>\n",
       "      <td>NaN</td>\n",
       "      <td>NaN</td>\n",
       "      <td>16000.000000</td>\n",
       "      <td>0.000000</td>\n",
       "    </tr>\n",
       "    <tr>\n",
       "      <th>75%</th>\n",
       "      <td>2012.000000</td>\n",
       "      <td>NaN</td>\n",
       "      <td>NaN</td>\n",
       "      <td>109700.000000</td>\n",
       "      <td>NaN</td>\n",
       "      <td>4900.000000</td>\n",
       "      <td>NaN</td>\n",
       "      <td>NaN</td>\n",
       "      <td>NaN</td>\n",
       "      <td>6.000000</td>\n",
       "      <td>NaN</td>\n",
       "      <td>NaN</td>\n",
       "      <td>27750.000000</td>\n",
       "      <td>0.000000</td>\n",
       "    </tr>\n",
       "    <tr>\n",
       "      <th>max</th>\n",
       "      <td>2022.000000</td>\n",
       "      <td>NaN</td>\n",
       "      <td>NaN</td>\n",
       "      <td>467400.000000</td>\n",
       "      <td>NaN</td>\n",
       "      <td>8400.000000</td>\n",
       "      <td>NaN</td>\n",
       "      <td>NaN</td>\n",
       "      <td>NaN</td>\n",
       "      <td>10.000000</td>\n",
       "      <td>NaN</td>\n",
       "      <td>NaN</td>\n",
       "      <td>557000.000000</td>\n",
       "      <td>1.000000</td>\n",
       "    </tr>\n",
       "  </tbody>\n",
       "</table>\n",
       "</div>"
      ],
      "text/plain": [
       "               year  make model        mileage state of origin  engine size  \\\n",
       "count   5419.000000  5419  5419    5419.000000            5419  5419.000000   \n",
       "unique          NaN    93   783            NaN              64          NaN   \n",
       "top             NaN   BMW   911            NaN              CA          NaN   \n",
       "freq            NaN  1017   146            NaN            1038          NaN   \n",
       "mean    2004.143015   NaN   NaN   78872.090238             NaN  3714.847204   \n",
       "std        9.439459   NaN   NaN   54907.551792             NaN  1473.926754   \n",
       "min     1981.000000   NaN   NaN       0.000000             NaN     0.000000   \n",
       "25%     1998.000000   NaN   NaN   37900.000000             NaN  2500.000000   \n",
       "50%     2005.000000   NaN   NaN   69900.000000             NaN  3500.000000   \n",
       "75%     2012.000000   NaN   NaN  109700.000000             NaN  4900.000000   \n",
       "max     2022.000000   NaN   NaN  467400.000000             NaN  8400.000000   \n",
       "\n",
       "       engine type        drivetrain transmmision type  number of gears  \\\n",
       "count         5419              5419              5419      5419.000000   \n",
       "unique          18                 3                 2              NaN   \n",
       "top             V8  Rear-wheel drive         Automatic              NaN   \n",
       "freq          2034              2948              3149              NaN   \n",
       "mean           NaN               NaN               NaN         5.539029   \n",
       "std            NaN               NaN               NaN         1.316372   \n",
       "min            NaN               NaN               NaN        -1.000000   \n",
       "25%            NaN               NaN               NaN         5.000000   \n",
       "50%            NaN               NaN               NaN         6.000000   \n",
       "75%            NaN               NaN               NaN         6.000000   \n",
       "max            NaN               NaN               NaN        10.000000   \n",
       "\n",
       "       body_style  color          price  is descreptive  \n",
       "count        5419   5419    5419.000000     5419.000000  \n",
       "unique          8     14            NaN             NaN  \n",
       "top         Sedan  black            NaN             NaN  \n",
       "freq         1358   1164            NaN             NaN  \n",
       "mean          NaN    NaN   23781.286584        0.132681  \n",
       "std           NaN    NaN   25207.455644        0.339261  \n",
       "min           NaN    NaN    1800.000000        0.000000  \n",
       "25%           NaN    NaN    9400.000000        0.000000  \n",
       "50%           NaN    NaN   16000.000000        0.000000  \n",
       "75%           NaN    NaN   27750.000000        0.000000  \n",
       "max           NaN    NaN  557000.000000        1.000000  "
      ]
     },
     "execution_count": 14,
     "metadata": {},
     "output_type": "execute_result"
    }
   ],
   "source": [
    "df.describe(include='all')"
   ]
  },
  {
   "cell_type": "code",
   "execution_count": 15,
   "metadata": {},
   "outputs": [
    {
     "name": "stdout",
     "output_type": "stream",
     "text": [
      "<class 'pandas.core.frame.DataFrame'>\n",
      "Int64Index: 5419 entries, 0 to 5419\n",
      "Data columns (total 14 columns):\n",
      " #   Column             Non-Null Count  Dtype \n",
      "---  ------             --------------  ----- \n",
      " 0   year               5419 non-null   int64 \n",
      " 1   make               5419 non-null   object\n",
      " 2   model              5419 non-null   object\n",
      " 3   mileage            5419 non-null   int64 \n",
      " 4   state of origin    5419 non-null   object\n",
      " 5   engine size        5419 non-null   int64 \n",
      " 6   engine type        5419 non-null   object\n",
      " 7   drivetrain         5419 non-null   object\n",
      " 8   transmmision type  5419 non-null   object\n",
      " 9   number of gears    5419 non-null   int64 \n",
      " 10  body_style         5419 non-null   object\n",
      " 11  color              5419 non-null   object\n",
      " 12  price              5419 non-null   int64 \n",
      " 13  is descreptive     5419 non-null   int64 \n",
      "dtypes: int64(6), object(8)\n",
      "memory usage: 635.0+ KB\n"
     ]
    }
   ],
   "source": [
    "df.info()"
   ]
  },
  {
   "cell_type": "code",
   "execution_count": 16,
   "metadata": {},
   "outputs": [
    {
     "data": {
      "text/plain": [
       "array([[<AxesSubplot:title={'center':'year'}>,\n",
       "        <AxesSubplot:title={'center':'mileage'}>],\n",
       "       [<AxesSubplot:title={'center':'engine size'}>,\n",
       "        <AxesSubplot:title={'center':'number of gears'}>],\n",
       "       [<AxesSubplot:title={'center':'price'}>,\n",
       "        <AxesSubplot:title={'center':'is descreptive'}>]], dtype=object)"
      ]
     },
     "execution_count": 16,
     "metadata": {},
     "output_type": "execute_result"
    },
    {
     "data": {
      "image/png": "[encoded data removed]",
      "text/plain": [
       "<Figure size 1440x1080 with 6 Axes>"
      ]
     },
     "metadata": {
      "needs_background": "light"
     },
     "output_type": "display_data"
    }
   ],
   "source": [
    "df.hist(bins=100, figsize=(20,15))"
   ]
  },
  {
   "cell_type": "code",
   "execution_count": 17,
   "metadata": {},
   "outputs": [
    {
     "ename": "NameError",
     "evalue": "name 'sns' is not defined",
     "output_type": "error",
     "traceback": [
      "\u001b[0;31m---------------------------------------------------------------------------\u001b[0m",
      "\u001b[0;31mNameError\u001b[0m                                 Traceback (most recent call last)",
      "Input \u001b[0;32mIn [17]\u001b[0m, in \u001b[0;36m<module>\u001b[0;34m\u001b[0m\n\u001b[0;32m----> 1\u001b[0m mileage_price_rel \u001b[38;5;241m=\u001b[39m \u001b[43msns\u001b[49m\u001b[38;5;241m.\u001b[39mrelplot(x\u001b[38;5;241m=\u001b[39m\u001b[38;5;124m\"\u001b[39m\u001b[38;5;124mmileage\u001b[39m\u001b[38;5;124m\"\u001b[39m, y\u001b[38;5;241m=\u001b[39m\u001b[38;5;124m\"\u001b[39m\u001b[38;5;124mprice\u001b[39m\u001b[38;5;124m\"\u001b[39m ,data\u001b[38;5;241m=\u001b[39mdf,kind\u001b[38;5;241m=\u001b[39m\u001b[38;5;124m'\u001b[39m\u001b[38;5;124mline\u001b[39m\u001b[38;5;124m'\u001b[39m)\n\u001b[1;32m      2\u001b[0m mileage_price_rel\u001b[38;5;241m.\u001b[39mfig\u001b[38;5;241m.\u001b[39mset_figwidth(\u001b[38;5;241m12\u001b[39m)\n\u001b[1;32m      3\u001b[0m mileage_price_rel\u001b[38;5;241m.\u001b[39mfig\u001b[38;5;241m.\u001b[39mset_figheight(\u001b[38;5;241m6\u001b[39m)\n",
      "\u001b[0;31mNameError\u001b[0m: name 'sns' is not defined"
     ]
    }
   ],
   "source": [
    "mileage_price_rel = sns.relplot(x=\"mileage\", y=\"price\" ,data=df,kind='line')\n",
    "mileage_price_rel.fig.set_figwidth(12)\n",
    "mileage_price_rel.fig.set_figheight(6)"
   ]
  },
  {
   "cell_type": "code",
   "execution_count": null,
   "metadata": {},
   "outputs": [
    {
     "data": {
      "image/png": "[encoded data removed]",
      "text/plain": [
       "<Figure size 864x432 with 1 Axes>"
      ]
     },
     "metadata": {},
     "output_type": "display_data"
    }
   ],
   "source": [
    "year_price_rel = sns.relplot(x=\"year\", y=\"price\" ,data=df,kind='line')\n",
    "year_price_rel.fig.set_figwidth(12)\n",
    "year_price_rel.fig.set_figheight(6)"
   ]
  },
  {
   "cell_type": "markdown",
   "metadata": {},
   "source": [
    "We can see that the data is scatterd around, and althoguht their is slight increse in engine size comparred to the price, it still looks quite random."
   ]
  },
  {
   "cell_type": "code",
   "execution_count": null,
   "metadata": {},
   "outputs": [
    {
     "data": {
      "image/png": "[encoded data removed]",
      "text/plain": [
       "<Figure size 842.4x595.44 with 1 Axes>"
      ]
     },
     "metadata": {},
     "output_type": "display_data"
    }
   ],
   "source": [
    "color_price_rel = sns.barplot(x=\"color\", y=\"price\" ,data=df)"
   ]
  },
  {
   "cell_type": "code",
   "execution_count": null,
   "metadata": {},
   "outputs": [
    {
     "data": {
      "image/png": "[encoded data removed]",
      "text/plain": [
       "<Figure size 842.4x595.44 with 1 Axes>"
      ]
     },
     "metadata": {},
     "output_type": "display_data"
    }
   ],
   "source": [
    "sns.set(rc={'figure.figsize':(11.7,8.27)})\n",
    "body_price_rel = sns.barplot(x=\"body_style\", y=\"price\" ,data=df)"
   ]
  },
  {
   "cell_type": "code",
   "execution_count": null,
   "metadata": {},
   "outputs": [
    {
     "data": {
      "image/png": "[encoded data removed]",
      "text/plain": [
       "<Figure size 842.4x595.44 with 1 Axes>"
      ]
     },
     "metadata": {},
     "output_type": "display_data"
    }
   ],
   "source": [
    "sns.set(rc={'figure.figsize':(11.7,8.27)})\n",
    "body_price_rel = sns.barplot(x=\"engine type\", y=\"price\" ,data=df)"
   ]
  },
  {
   "cell_type": "code",
   "execution_count": null,
   "metadata": {},
   "outputs": [
    {
     "data": {
      "image/png": "[encoded data removed]",
      "text/plain": [
       "<Figure size 842.4x595.44 with 1 Axes>"
      ]
     },
     "metadata": {},
     "output_type": "display_data"
    }
   ],
   "source": [
    "sns.set(rc={'figure.figsize':(11.7,8.27)})\n",
    "body_price_rel = sns.barplot(x=\"is descreptive\", y=\"price\" ,data=df)"
   ]
  },
  {
   "cell_type": "code",
   "execution_count": null,
   "metadata": {},
   "outputs": [],
   "source": [
    "df = df.drop(df.loc[(df[\"price\"] > 100000)].index)\n",
    "df = df.drop(df.loc[(df[\"mileage\"] > 300000)].index)"
   ]
  },
  {
   "cell_type": "code",
   "execution_count": null,
   "metadata": {},
   "outputs": [],
   "source": [
    "df = df.drop(df[df.groupby('make')['make'].transform('size') <= 5].index)"
   ]
  },
  {
   "cell_type": "code",
   "execution_count": null,
   "metadata": {},
   "outputs": [],
   "source": [
    "cars_df_with_dummies = pd.get_dummies(df)"
   ]
  },
  {
   "cell_type": "code",
   "execution_count": null,
   "metadata": {},
   "outputs": [
    {
     "data": {
      "text/html": [
       "<div>\n",
       "<style scoped>\n",
       "    .dataframe tbody tr th:only-of-type {\n",
       "        vertical-align: middle;\n",
       "    }\n",
       "\n",
       "    .dataframe tbody tr th {\n",
       "        vertical-align: top;\n",
       "    }\n",
       "\n",
       "    .dataframe thead th {\n",
       "        text-align: right;\n",
       "    }\n",
       "</style>\n",
       "<table border=\"1\" class=\"dataframe\">\n",
       "  <thead>\n",
       "    <tr style=\"text-align: right;\">\n",
       "      <th></th>\n",
       "      <th>year</th>\n",
       "      <th>make</th>\n",
       "      <th>model</th>\n",
       "      <th>mileage</th>\n",
       "      <th>state of origin</th>\n",
       "      <th>engine size</th>\n",
       "      <th>engine type</th>\n",
       "      <th>drivetrain</th>\n",
       "      <th>transmmision type</th>\n",
       "      <th>number of gears</th>\n",
       "      <th>body_style</th>\n",
       "      <th>color</th>\n",
       "      <th>price</th>\n",
       "      <th>is descreptive</th>\n",
       "    </tr>\n",
       "  </thead>\n",
       "  <tbody>\n",
       "    <tr>\n",
       "      <th>0</th>\n",
       "      <td>1999</td>\n",
       "      <td>Mercedes-Benz</td>\n",
       "      <td>SL600</td>\n",
       "      <td>52000</td>\n",
       "      <td>NJ</td>\n",
       "      <td>6000</td>\n",
       "      <td>V12</td>\n",
       "      <td>Rear-wheel drive</td>\n",
       "      <td>Automatic</td>\n",
       "      <td>5</td>\n",
       "      <td>Convertible</td>\n",
       "      <td>black</td>\n",
       "      <td>30500</td>\n",
       "      <td>0</td>\n",
       "    </tr>\n",
       "    <tr>\n",
       "      <th>1</th>\n",
       "      <td>2017</td>\n",
       "      <td>BMW</td>\n",
       "      <td>330i</td>\n",
       "      <td>43400</td>\n",
       "      <td>KS</td>\n",
       "      <td>2000</td>\n",
       "      <td>I4</td>\n",
       "      <td>4WD/AWD</td>\n",
       "      <td>Automatic</td>\n",
       "      <td>8</td>\n",
       "      <td>Wagon</td>\n",
       "      <td>silver</td>\n",
       "      <td>41500</td>\n",
       "      <td>0</td>\n",
       "    </tr>\n",
       "    <tr>\n",
       "      <th>2</th>\n",
       "      <td>2008</td>\n",
       "      <td>MINI</td>\n",
       "      <td>Cooper Clubman</td>\n",
       "      <td>104100</td>\n",
       "      <td>TN</td>\n",
       "      <td>1600</td>\n",
       "      <td>I4</td>\n",
       "      <td>Front-wheel drive</td>\n",
       "      <td>Manual</td>\n",
       "      <td>6</td>\n",
       "      <td>Wagon</td>\n",
       "      <td>metallic</td>\n",
       "      <td>9969</td>\n",
       "      <td>1</td>\n",
       "    </tr>\n",
       "    <tr>\n",
       "      <th>3</th>\n",
       "      <td>2013</td>\n",
       "      <td>Porsche</td>\n",
       "      <td>Cayenne</td>\n",
       "      <td>82400</td>\n",
       "      <td>CA</td>\n",
       "      <td>4800</td>\n",
       "      <td>V8</td>\n",
       "      <td>4WD/AWD</td>\n",
       "      <td>Automatic</td>\n",
       "      <td>8</td>\n",
       "      <td>SUV/Crossover</td>\n",
       "      <td>grey</td>\n",
       "      <td>29000</td>\n",
       "      <td>0</td>\n",
       "    </tr>\n",
       "    <tr>\n",
       "      <th>4</th>\n",
       "      <td>2019</td>\n",
       "      <td>Chevrolet</td>\n",
       "      <td>Camaro</td>\n",
       "      <td>9500</td>\n",
       "      <td>NY</td>\n",
       "      <td>6200</td>\n",
       "      <td>V8</td>\n",
       "      <td>Rear-wheel drive</td>\n",
       "      <td>Automatic</td>\n",
       "      <td>10</td>\n",
       "      <td>Coupe</td>\n",
       "      <td>blue</td>\n",
       "      <td>60333</td>\n",
       "      <td>0</td>\n",
       "    </tr>\n",
       "    <tr>\n",
       "      <th>...</th>\n",
       "      <td>...</td>\n",
       "      <td>...</td>\n",
       "      <td>...</td>\n",
       "      <td>...</td>\n",
       "      <td>...</td>\n",
       "      <td>...</td>\n",
       "      <td>...</td>\n",
       "      <td>...</td>\n",
       "      <td>...</td>\n",
       "      <td>...</td>\n",
       "      <td>...</td>\n",
       "      <td>...</td>\n",
       "      <td>...</td>\n",
       "      <td>...</td>\n",
       "    </tr>\n",
       "    <tr>\n",
       "      <th>5415</th>\n",
       "      <td>2013</td>\n",
       "      <td>BMW</td>\n",
       "      <td>M5</td>\n",
       "      <td>48900</td>\n",
       "      <td>NY</td>\n",
       "      <td>4400</td>\n",
       "      <td>V8</td>\n",
       "      <td>Rear-wheel drive</td>\n",
       "      <td>Automatic</td>\n",
       "      <td>7</td>\n",
       "      <td>Sedan</td>\n",
       "      <td>blue</td>\n",
       "      <td>30750</td>\n",
       "      <td>0</td>\n",
       "    </tr>\n",
       "    <tr>\n",
       "      <th>5416</th>\n",
       "      <td>2006</td>\n",
       "      <td>Mazda</td>\n",
       "      <td>Mazdaspeed 6</td>\n",
       "      <td>109900</td>\n",
       "      <td>FL</td>\n",
       "      <td>2300</td>\n",
       "      <td>I4</td>\n",
       "      <td>4WD/AWD</td>\n",
       "      <td>Manual</td>\n",
       "      <td>6</td>\n",
       "      <td>Sedan</td>\n",
       "      <td>metallic</td>\n",
       "      <td>6700</td>\n",
       "      <td>1</td>\n",
       "    </tr>\n",
       "    <tr>\n",
       "      <th>5417</th>\n",
       "      <td>2007</td>\n",
       "      <td>Aston Martin</td>\n",
       "      <td>V8 Vantage</td>\n",
       "      <td>63800</td>\n",
       "      <td>NY</td>\n",
       "      <td>4300</td>\n",
       "      <td>V8</td>\n",
       "      <td>Rear-wheel drive</td>\n",
       "      <td>Manual</td>\n",
       "      <td>6</td>\n",
       "      <td>Coupe</td>\n",
       "      <td>black</td>\n",
       "      <td>33500</td>\n",
       "      <td>0</td>\n",
       "    </tr>\n",
       "    <tr>\n",
       "      <th>5418</th>\n",
       "      <td>1986</td>\n",
       "      <td>Dodge</td>\n",
       "      <td>600</td>\n",
       "      <td>88800</td>\n",
       "      <td>PA</td>\n",
       "      <td>2500</td>\n",
       "      <td>I4</td>\n",
       "      <td>Front-wheel drive</td>\n",
       "      <td>Automatic</td>\n",
       "      <td>3</td>\n",
       "      <td>Coupe</td>\n",
       "      <td>beige</td>\n",
       "      <td>1800</td>\n",
       "      <td>0</td>\n",
       "    </tr>\n",
       "    <tr>\n",
       "      <th>5419</th>\n",
       "      <td>2000</td>\n",
       "      <td>Mercedes-Benz</td>\n",
       "      <td>ML55 AMG</td>\n",
       "      <td>137800</td>\n",
       "      <td>NC</td>\n",
       "      <td>5500</td>\n",
       "      <td>V8</td>\n",
       "      <td>4WD/AWD</td>\n",
       "      <td>Automatic</td>\n",
       "      <td>5</td>\n",
       "      <td>SUV/Crossover</td>\n",
       "      <td>red</td>\n",
       "      <td>7111</td>\n",
       "      <td>0</td>\n",
       "    </tr>\n",
       "  </tbody>\n",
       "</table>\n",
       "<p>5231 rows × 14 columns</p>\n",
       "</div>"
      ],
      "text/plain": [
       "      year           make           model  mileage state of origin  \\\n",
       "0     1999  Mercedes-Benz           SL600    52000              NJ   \n",
       "1     2017            BMW            330i    43400              KS   \n",
       "2     2008           MINI  Cooper Clubman   104100              TN   \n",
       "3     2013        Porsche         Cayenne    82400              CA   \n",
       "4     2019      Chevrolet          Camaro     9500              NY   \n",
       "...    ...            ...             ...      ...             ...   \n",
       "5415  2013            BMW              M5    48900              NY   \n",
       "5416  2006          Mazda    Mazdaspeed 6   109900              FL   \n",
       "5417  2007   Aston Martin      V8 Vantage    63800              NY   \n",
       "5418  1986          Dodge             600    88800              PA   \n",
       "5419  2000  Mercedes-Benz        ML55 AMG   137800              NC   \n",
       "\n",
       "      engine size engine type         drivetrain transmmision type  \\\n",
       "0            6000         V12   Rear-wheel drive         Automatic   \n",
       "1            2000          I4            4WD/AWD         Automatic   \n",
       "2            1600          I4  Front-wheel drive            Manual   \n",
       "3            4800          V8            4WD/AWD         Automatic   \n",
       "4            6200          V8   Rear-wheel drive         Automatic   \n",
       "...           ...         ...                ...               ...   \n",
       "5415         4400          V8   Rear-wheel drive         Automatic   \n",
       "5416         2300          I4            4WD/AWD            Manual   \n",
       "5417         4300          V8   Rear-wheel drive            Manual   \n",
       "5418         2500          I4  Front-wheel drive         Automatic   \n",
       "5419         5500          V8            4WD/AWD         Automatic   \n",
       "\n",
       "      number of gears     body_style     color  price  is descreptive  \n",
       "0                   5    Convertible     black  30500               0  \n",
       "1                   8          Wagon    silver  41500               0  \n",
       "2                   6          Wagon  metallic   9969               1  \n",
       "3                   8  SUV/Crossover      grey  29000               0  \n",
       "4                  10          Coupe      blue  60333               0  \n",
       "...               ...            ...       ...    ...             ...  \n",
       "5415                7          Sedan      blue  30750               0  \n",
       "5416                6          Sedan  metallic   6700               1  \n",
       "5417                6          Coupe     black  33500               0  \n",
       "5418                3          Coupe     beige   1800               0  \n",
       "5419                5  SUV/Crossover       red   7111               0  \n",
       "\n",
       "[5231 rows x 14 columns]"
      ]
     },
     "execution_count": 35,
     "metadata": {},
     "output_type": "execute_result"
    }
   ],
   "source": [
    "cars_df_with_dummies"
   ]
  },
  {
   "cell_type": "code",
   "execution_count": null,
   "metadata": {},
   "outputs": [],
   "source": [
    "from sklearn.preprocessing import MinMaxScaler\n",
    "std_scaler = MinMaxScaler()\n",
    "\n",
    "price_label = cars_df_with_dummies['price']\n",
    "cars_without_price = cars_df_with_dummies.drop(['price'],axis=1)\n",
    "\n",
    "X_train,X_test,y_train,y_test = train_test_split(cars_without_price,price_label,test_size=0.2,random_state=0)\n",
    "\n",
    "num_features = ['year','mileage','engine size','number of gears']\n",
    "\n",
    "X_train[num_features] = std_scaler.fit_transform(X_train[num_features])\n",
    "X_test[num_features] = std_scaler.transform(X_test[num_features])"
   ]
  },
  {
   "cell_type": "code",
   "execution_count": null,
   "metadata": {},
   "outputs": [
    {
     "name": "stdout",
     "output_type": "stream",
     "text": [
      "-3.2688680149275124e+19\n",
      "1.102824179395338e+28\n"
     ]
    }
   ],
   "source": [
    "linear_reg = LinearRegression()\n",
    "linear_reg.fit(X_train, y_train)\n",
    "initial_prediction = linear_reg.predict(X_test)\n",
    "\n",
    "\n",
    "print(linear_reg.score(X_test,y_test))\n",
    "print (mean_squared_error(y_test,initial_prediction))"
   ]
  },
  {
   "cell_type": "code",
   "execution_count": null,
   "metadata": {},
   "outputs": [
    {
     "name": "stdout",
     "output_type": "stream",
     "text": [
      "0.65882804113832\n",
      "115101828.47583571\n"
     ]
    }
   ],
   "source": [
    "knn_reg = KNeighborsRegressor()\n",
    "knn_reg.fit(X_train, y_train)\n",
    "initial_prediction = knn_reg.predict(X_test)\n",
    "\n",
    "\n",
    "print(knn_reg.score(X_test,y_test))\n",
    "print (mean_squared_error(y_test,initial_prediction))"
   ]
  },
  {
   "cell_type": "code",
   "execution_count": null,
   "metadata": {},
   "outputs": [
    {
     "name": "stdout",
     "output_type": "stream",
     "text": [
      "0.8259563268431497\n",
      "58717442.90428627\n"
     ]
    }
   ],
   "source": [
    "rf_reg = RandomForestRegressor()\n",
    "rf_reg.fit(X_train, y_train)\n",
    "initial_prediction = rf_reg.predict(X_test)\n",
    "\n",
    "\n",
    "print(rf_reg.score(X_test,y_test))\n",
    "print (mean_squared_error(y_test,initial_prediction))"
   ]
  }
 ],
 "metadata": {
  "interpreter": {
   "hash": "e7370f93d1d0cde622a1f8e1c04877d8463912d04d973331ad4851f04de6915a"
  },
  "kernelspec": {
   "display_name": "Python 3.10.2 64-bit",
   "language": "python",
   "name": "python3"
  },
  "language_info": {
   "codemirror_mode": {
    "name": "ipython",
    "version": 3
   },
   "file_extension": ".py",
   "mimetype": "text/x-python",
   "name": "python",
   "nbconvert_exporter": "python",
   "pygments_lexer": "ipython3",
   "version": "3.10.2"
  },
  "orig_nbformat": 4
 },
 "nbformat": 4,
 "nbformat_minor": 2
}
