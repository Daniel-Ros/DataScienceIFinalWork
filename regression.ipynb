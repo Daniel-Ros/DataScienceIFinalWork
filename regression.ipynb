{
 "cells": [
  {
   "cell_type": "code",
   "execution_count": 1,
   "metadata": {},
   "outputs": [],
   "source": [
    "import numpy as np\n",
    "import matplotlib.pyplot as plt\n",
    "import pandas as pd\n",
    "import seaborn as sns\n",
    "from sklearn.model_selection import train_test_split, cross_val_score,GridSearchCV\n",
    "from sklearn.preprocessing import StandardScaler\n",
    "from sklearn.linear_model import LinearRegression\n",
    "from sklearn.metrics import mean_squared_error\n",
    "from sklearn.feature_selection import SelectKBest, f_regression\n",
    "from sklearn.ensemble import RandomForestRegressor\n",
    "from sklearn.neighbors import KNeighborsRegressor\n",
    "from sklearn.ensemble import RandomForestRegressor\n",
    "from sklearn.dummy import DummyRegressor"
   ]
  },
  {
   "cell_type": "markdown",
   "metadata": {},
   "source": [
    "## Cleaning the data"
   ]
  },
  {
   "cell_type": "code",
   "execution_count": 2,
   "metadata": {},
   "outputs": [],
   "source": [
    "df : pd.DataFrame = pd.read_csv('my_data.csv')"
   ]
  },
  {
   "cell_type": "code",
   "execution_count": 3,
   "metadata": {},
   "outputs": [
    {
     "data": {
      "text/html": [
       "<div>\n",
       "<style scoped>\n",
       "    .dataframe tbody tr th:only-of-type {\n",
       "        vertical-align: middle;\n",
       "    }\n",
       "\n",
       "    .dataframe tbody tr th {\n",
       "        vertical-align: top;\n",
       "    }\n",
       "\n",
       "    .dataframe thead th {\n",
       "        text-align: right;\n",
       "    }\n",
       "</style>\n",
       "<table border=\"1\" class=\"dataframe\">\n",
       "  <thead>\n",
       "    <tr style=\"text-align: right;\">\n",
       "      <th></th>\n",
       "      <th>Unnamed: 0</th>\n",
       "      <th>year</th>\n",
       "      <th>make</th>\n",
       "      <th>model</th>\n",
       "      <th>mileage</th>\n",
       "      <th>title</th>\n",
       "      <th>state of origin</th>\n",
       "      <th>engine size</th>\n",
       "      <th>engine type</th>\n",
       "      <th>drivetrain</th>\n",
       "      <th>transmmision type</th>\n",
       "      <th>number of gears</th>\n",
       "      <th>body_style</th>\n",
       "      <th>color</th>\n",
       "      <th>numberg of higlights</th>\n",
       "      <th>number of flaws</th>\n",
       "      <th>price</th>\n",
       "    </tr>\n",
       "  </thead>\n",
       "  <tbody>\n",
       "    <tr>\n",
       "      <th>0</th>\n",
       "      <td>0</td>\n",
       "      <td>1999</td>\n",
       "      <td>Mercedes-Benz</td>\n",
       "      <td>SL600</td>\n",
       "      <td>52,000</td>\n",
       "      <td>Clean</td>\n",
       "      <td>NJ</td>\n",
       "      <td>6.0L</td>\n",
       "      <td>V12</td>\n",
       "      <td>Rear-wheel drive</td>\n",
       "      <td>Automatic</td>\n",
       "      <td>5-Speed</td>\n",
       "      <td>Convertible</td>\n",
       "      <td>Black</td>\n",
       "      <td>5</td>\n",
       "      <td>3</td>\n",
       "      <td>$30,500</td>\n",
       "    </tr>\n",
       "    <tr>\n",
       "      <th>1</th>\n",
       "      <td>1</td>\n",
       "      <td>2017</td>\n",
       "      <td>BMW</td>\n",
       "      <td>330i</td>\n",
       "      <td>43,400</td>\n",
       "      <td>Clean</td>\n",
       "      <td>KS</td>\n",
       "      <td>2.0L</td>\n",
       "      <td>I4</td>\n",
       "      <td>4WD/AWD</td>\n",
       "      <td>Automatic</td>\n",
       "      <td>8-Speed</td>\n",
       "      <td>Wagon</td>\n",
       "      <td>Glacier Silver</td>\n",
       "      <td>6</td>\n",
       "      <td>4</td>\n",
       "      <td>$41,500</td>\n",
       "    </tr>\n",
       "    <tr>\n",
       "      <th>2</th>\n",
       "      <td>2</td>\n",
       "      <td>2008</td>\n",
       "      <td>MINI</td>\n",
       "      <td>Cooper Clubman</td>\n",
       "      <td>104,100</td>\n",
       "      <td>Clean</td>\n",
       "      <td>TN</td>\n",
       "      <td>1.6L</td>\n",
       "      <td>I4</td>\n",
       "      <td>Front-wheel drive</td>\n",
       "      <td>Manual</td>\n",
       "      <td>6-Speed</td>\n",
       "      <td>Wagon</td>\n",
       "      <td>Hot Chocolate Metallic</td>\n",
       "      <td>5</td>\n",
       "      <td>11</td>\n",
       "      <td>$9,969</td>\n",
       "    </tr>\n",
       "    <tr>\n",
       "      <th>3</th>\n",
       "      <td>3</td>\n",
       "      <td>2013</td>\n",
       "      <td>Porsche</td>\n",
       "      <td>Cayenne</td>\n",
       "      <td>82,400</td>\n",
       "      <td>Clean</td>\n",
       "      <td>CA</td>\n",
       "      <td>4.8L</td>\n",
       "      <td>V8</td>\n",
       "      <td>4WD/AWD</td>\n",
       "      <td>Automatic</td>\n",
       "      <td>8-Speed</td>\n",
       "      <td>SUV/Crossover</td>\n",
       "      <td>Meteor Grey Metallic</td>\n",
       "      <td>4</td>\n",
       "      <td>2</td>\n",
       "      <td>$29,000</td>\n",
       "    </tr>\n",
       "    <tr>\n",
       "      <th>4</th>\n",
       "      <td>4</td>\n",
       "      <td>2019</td>\n",
       "      <td>Chevrolet</td>\n",
       "      <td>Camaro</td>\n",
       "      <td>9,500</td>\n",
       "      <td>Clean</td>\n",
       "      <td>NY</td>\n",
       "      <td>6.2L</td>\n",
       "      <td>V8</td>\n",
       "      <td>Rear-wheel drive</td>\n",
       "      <td>Automatic</td>\n",
       "      <td>10-Speed</td>\n",
       "      <td>Coupe</td>\n",
       "      <td>Riverside Blue Metallic</td>\n",
       "      <td>4</td>\n",
       "      <td>3</td>\n",
       "      <td>$60,333</td>\n",
       "    </tr>\n",
       "  </tbody>\n",
       "</table>\n",
       "</div>"
      ],
      "text/plain": [
       "   Unnamed: 0  year           make           model  mileage  title  \\\n",
       "0           0  1999  Mercedes-Benz           SL600   52,000  Clean   \n",
       "1           1  2017            BMW            330i   43,400  Clean   \n",
       "2           2  2008           MINI  Cooper Clubman  104,100  Clean   \n",
       "3           3  2013        Porsche         Cayenne   82,400  Clean   \n",
       "4           4  2019      Chevrolet          Camaro    9,500  Clean   \n",
       "\n",
       "  state of origin engine size engine type         drivetrain  \\\n",
       "0              NJ        6.0L         V12   Rear-wheel drive   \n",
       "1              KS        2.0L          I4            4WD/AWD   \n",
       "2              TN        1.6L          I4  Front-wheel drive   \n",
       "3              CA        4.8L          V8            4WD/AWD   \n",
       "4              NY        6.2L          V8   Rear-wheel drive   \n",
       "\n",
       "  transmmision type number of gears     body_style                    color  \\\n",
       "0         Automatic         5-Speed    Convertible                    Black   \n",
       "1         Automatic         8-Speed          Wagon           Glacier Silver   \n",
       "2            Manual         6-Speed          Wagon   Hot Chocolate Metallic   \n",
       "3         Automatic         8-Speed  SUV/Crossover     Meteor Grey Metallic   \n",
       "4         Automatic        10-Speed          Coupe  Riverside Blue Metallic   \n",
       "\n",
       "   numberg of higlights  number of flaws    price  \n",
       "0                     5                3  $30,500  \n",
       "1                     6                4  $41,500  \n",
       "2                     5               11   $9,969  \n",
       "3                     4                2  $29,000  \n",
       "4                     4                3  $60,333  "
      ]
     },
     "execution_count": 3,
     "metadata": {},
     "output_type": "execute_result"
    }
   ],
   "source": [
    "df.head()"
   ]
  },
  {
   "cell_type": "code",
   "execution_count": 4,
   "metadata": {},
   "outputs": [],
   "source": [
    "df = df.drop(\"Unnamed: 0\",axis=1)\n",
    "df = df.drop(df.loc[df['year'] == '\"Consumer'].index)"
   ]
  },
  {
   "cell_type": "code",
   "execution_count": 5,
   "metadata": {},
   "outputs": [],
   "source": [
    "df[\"price\"] = df[\"price\"].apply(lambda x: x[1:])\n",
    "df[\"price\"] = df[\"price\"].apply(lambda x: x.replace(\",\",\"\"))"
   ]
  },
  {
   "cell_type": "code",
   "execution_count": 6,
   "metadata": {},
   "outputs": [],
   "source": [
    "def get_miles_from_str(x):\n",
    "    if isinstance(x,int):\n",
    "        return x\n",
    "    x = x.replace(\",\",\"\")\n",
    "    x = x.split(\" \")[0]\n",
    "    x = x.replace(\"~\",\"\")\n",
    "    if x[0].isdigit():\n",
    "        return x\n",
    "    return 0\n",
    "\n",
    "df[\"mileage\"] = df[\"mileage\"].apply(lambda x: get_miles_from_str(x))"
   ]
  },
  {
   "cell_type": "code",
   "execution_count": 7,
   "metadata": {},
   "outputs": [],
   "source": [
    "df[\"engine size\"] = df[\"engine size\"].replace(['Single','Dual','Triple','AC'],0)\n",
    "def convert(x : str):\n",
    "    if isinstance(x,int):\n",
    "        return x\n",
    "    elif \"cc\" in x:\n",
    "        x = x.replace(\"cc\",\"\")\n",
    "    elif \"L\" in x:\n",
    "        x = x.replace(\"L\",\"\")\n",
    "        x = x.replace(\".\",\"\")\n",
    "        for i in range(0,4 -len(x)):\n",
    "            x = x + \"0\"\n",
    "    elif \".\" in x:\n",
    "        x = x.replace(\".\",\"\")\n",
    "        for i in range(0,4 -len(x)):\n",
    "            x = x + \"0\"\n",
    "\n",
    "    return x\n",
    "\n",
    "df[\"engine size\"] = df[\"engine size\"].apply(convert)\n",
    "\n",
    "\n",
    "df.loc[df[\"engine size\"] == \"Toronto\",\"engine size\"] = 5700\n",
    "df.loc[df[\"engine size\"] == \"Chevrolet\",\"engine size\"] = 3200\n",
    "df.loc[df[\"engine size\"] == \"AC\",\"engine size\"] = 0\n",
    "df.loc[df[\"engine size\"] == \"EV\",\"engine size\"] = 0\n",
    "df.iloc[3834,6] = 4600\n",
    "df.iloc[3926,6] = 4000"
   ]
  },
  {
   "cell_type": "code",
   "execution_count": 8,
   "metadata": {},
   "outputs": [
    {
     "data": {
      "text/plain": [
       "array(['6000', '2000', '1600', '4800', '6200', '4700', '3200', '2500',\n",
       "       '4400', '3600', '5400', '4000', '8000', '4900', '5300', '5700',\n",
       "       '6750', '5000', '5500', '3000', '3500', '4500', '1300', '3300',\n",
       "       '2200', '2700', '3800', '4200', '3700', '1800', '5900', '6700',\n",
       "       '1700', '3400', '5200', '4600', '987', '2800', '4300', '1400',\n",
       "       '2400', '2300', '6400', '6500', '660', '5800', '8300', '6600',\n",
       "       '602', '659', '657', '1500', '1100', '7000', '2900', '2250',\n",
       "       '5600', '2600', '0700', '7400', '7300', '1900', '7500', '6800', 0,\n",
       "       '8100', '1200', '1000', '548', '658', '6300', '1080', '547',\n",
       "       '8400', '3900', '656', '6100', '2100', '3100', '4100', '7200',\n",
       "       3200, 4600, 4000, '0600', '2850', '6900', 5700, '1750'],\n",
       "      dtype=object)"
      ]
     },
     "execution_count": 8,
     "metadata": {},
     "output_type": "execute_result"
    }
   ],
   "source": [
    "df[\"engine size\"].unique()"
   ]
  },
  {
   "cell_type": "code",
   "execution_count": 9,
   "metadata": {},
   "outputs": [
    {
     "data": {
      "text/plain": [
       "array(['V12', 'I4', 'V8', 'I6', 'I5', 'V6', 'Flat-6', 'V10', 'Flat-4',\n",
       "       'Rotary', 'turbodiesel', 'I3', '6', 'V2', 'Flat-2', '4', 'H6',\n",
       "       '12-Cylinder', 'W12', '90D', 'Inline-4', 'W8', 'VR6', '3.0L',\n",
       "       'Diesel', 'Motor', 'Motors', 'H4', 'Supercharged', 'I-4',\n",
       "       'Turbodiesel', 'Turbo', '75', 'I-6', 'P90D', '85', 'I-3', '100D',\n",
       "       '75D', 'generator', 'Canada', 'P85', 'EV', 'i4', 'motor', 'Hybrid'],\n",
       "      dtype=object)"
      ]
     },
     "execution_count": 9,
     "metadata": {},
     "output_type": "execute_result"
    }
   ],
   "source": [
    "df[\"engine type\"].unique()"
   ]
  },
  {
   "cell_type": "code",
   "execution_count": 10,
   "metadata": {},
   "outputs": [],
   "source": [
    "df.loc[df[\"engine type\"] == \"Canada\",\"engine type\"] = \"Flat-6\"\n",
    "df.loc[df[\"engine type\"] == \"Supercharged\",\"engine type\"] = \"V6\"\n",
    "df.loc[df[\"engine type\"] == \"Diesel\",\"engine type\"] = \"I4\"\n",
    "df.loc[df[\"engine type\"] == \"3.0L\",\"engine type\"] = \"I6\"\n",
    "df.loc[df[\"engine type\"] == \"turbodiesel\",\"engine type\"] = \"I6\"\n",
    "df.loc[df[\"engine type\"] == \"I-6\",\"engine type\"] = \"I6\"\n",
    "df.loc[df[\"engine type\"] == \"Turbodiesel\",\"engine type\"] = \"V6\"\n",
    "df.loc[df[\"engine type\"] == \"Turbo\",\"engine type\"] = \"I4\"\n",
    "df.loc[df[\"engine type\"] == \"4\",\"engine type\"] = \"Flat-4\"\n",
    "df.loc[df[\"engine type\"] == \"6\",\"engine type\"] = \"Flat-6\"\n",
    "df.loc[df[\"engine type\"] == \"Inline-4\",\"engine type\"] = \"I4\"\n",
    "df.loc[df[\"engine type\"] == \"i4\",\"engine type\"] = \"I4\"\n",
    "df.loc[df[\"engine type\"] == \"I-4\",\"engine type\"] = \"I4\"\n",
    "df.loc[df[\"engine type\"] == \"I-3\",\"engine type\"] = \"I3\"\n",
    "df.loc[df[\"engine type\"] == \"Hybrid\",\"engine type\"] = \"V6\"\n",
    "df.loc[df[\"engine size\"] == 0,\"engine type\"] = \"electric\""
   ]
  },
  {
   "cell_type": "code",
   "execution_count": 11,
   "metadata": {},
   "outputs": [],
   "source": [
    "df.loc[df[\"number of gears\"] == \"3.6L V6\",\"number of gears\"] = \"6-speed\"\n",
    "def simplefy_gears(x:str):\n",
    "    if not isinstance(x,str):\n",
    "        return 0\n",
    "    if x == \"CVT\":\n",
    "        return -1\n",
    "    x = x.split(\"-\")[0]\n",
    "    return x\n",
    "\n",
    "df[\"number of gears\"] = df[\"number of gears\"].apply(simplefy_gears)"
   ]
  },
  {
   "cell_type": "code",
   "execution_count": 12,
   "metadata": {},
   "outputs": [],
   "source": [
    "def simplefy_color(x : str):\n",
    "    if \"white\" in x.lower():\n",
    "        x = 0\n",
    "    elif \"black\" in x.lower():\n",
    "        x = 1\n",
    "    elif \"red\" in x.lower():\n",
    "        x = 2\n",
    "    elif \"blue\" in x.lower():\n",
    "        x = 3\n",
    "    elif \"yellow\" in x.lower():\n",
    "        x = 4\n",
    "    elif \"grey\" in x.lower():\n",
    "        x = 5\n",
    "    elif \"green\" in x.lower():\n",
    "        x = 6\n",
    "    elif \"silver\" in x.lower():\n",
    "        x = 7\n",
    "    elif \"orange\" in x.lower():\n",
    "        x = 8\n",
    "    elif \"metallic\" in x.lower():\n",
    "        x = 9\n",
    "    elif \"pearl\" in x.lower():\n",
    "        x = 10\n",
    "    elif \"gold\" in x.lower():\n",
    "        x = 11\n",
    "    elif \"beige\" in x.lower():\n",
    "        x = 12\n",
    "    else:\n",
    "        return 13\n",
    "\n",
    "    return x\n",
    "\n",
    "df[\"color\"] = df[\"color\"].apply(simplefy_color)"
   ]
  },
  {
   "cell_type": "code",
   "execution_count": 13,
   "metadata": {},
   "outputs": [],
   "source": [
    "\n",
    "df[\"price\"] = df['price'].astype(str).astype(int)\n",
    "df[\"mileage\"] = df['mileage'].astype(str).astype(int)\n",
    "df[\"year\"] = df['year'].astype(str).astype(int)\n",
    "df[\"engine size\"] = df['engine size'].astype(str).astype(int)\n",
    "df[\"number of gears\"] = df['number of gears'].astype(str).astype(int)\n",
    "df[\"color\"] = df['color'].astype(str).astype(int)"
   ]
  },
  {
   "cell_type": "code",
   "execution_count": 14,
   "metadata": {},
   "outputs": [],
   "source": [
    "df = df.drop(\"title\",axis=1)"
   ]
  },
  {
   "cell_type": "code",
   "execution_count": 15,
   "metadata": {},
   "outputs": [],
   "source": [
    "df[\"is descreptive\"] = df[\"numberg of higlights\"] + df[\"number of flaws\"] > 10\n",
    "df[\"is descreptive\"] = df[\"is descreptive\"].map({\n",
    "    True: 1,\n",
    "    False: 0\n",
    "})\n",
    "\n",
    "df = df.drop([\"numberg of higlights\",\"number of flaws\"],axis=1)"
   ]
  },
  {
   "cell_type": "code",
   "execution_count": 16,
   "metadata": {},
   "outputs": [
    {
     "name": "stdout",
     "output_type": "stream",
     "text": [
      "<class 'pandas.core.frame.DataFrame'>\n",
      "Int64Index: 5419 entries, 0 to 5419\n",
      "Data columns (total 14 columns):\n",
      " #   Column             Non-Null Count  Dtype \n",
      "---  ------             --------------  ----- \n",
      " 0   year               5419 non-null   int64 \n",
      " 1   make               5419 non-null   object\n",
      " 2   model              5419 non-null   object\n",
      " 3   mileage            5419 non-null   int64 \n",
      " 4   state of origin    5419 non-null   object\n",
      " 5   engine size        5419 non-null   int64 \n",
      " 6   engine type        5419 non-null   object\n",
      " 7   drivetrain         5419 non-null   object\n",
      " 8   transmmision type  5419 non-null   object\n",
      " 9   number of gears    5419 non-null   int64 \n",
      " 10  body_style         5419 non-null   object\n",
      " 11  color              5419 non-null   int64 \n",
      " 12  price              5419 non-null   int64 \n",
      " 13  is descreptive     5419 non-null   int64 \n",
      "dtypes: int64(7), object(7)\n",
      "memory usage: 635.0+ KB\n"
     ]
    }
   ],
   "source": [
    "df.info()"
   ]
  },
  {
   "cell_type": "code",
   "execution_count": 17,
   "metadata": {},
   "outputs": [
    {
     "data": {
      "text/plain": [
       "array([[<AxesSubplot:title={'center':'year'}>,\n",
       "        <AxesSubplot:title={'center':'mileage'}>,\n",
       "        <AxesSubplot:title={'center':'engine size'}>],\n",
       "       [<AxesSubplot:title={'center':'number of gears'}>,\n",
       "        <AxesSubplot:title={'center':'color'}>,\n",
       "        <AxesSubplot:title={'center':'price'}>],\n",
       "       [<AxesSubplot:title={'center':'is descreptive'}>, <AxesSubplot:>,\n",
       "        <AxesSubplot:>]], dtype=object)"
      ]
     },
     "execution_count": 17,
     "metadata": {},
     "output_type": "execute_result"
    },
    {
     "data": {
      "image/png": "[encoded data removed]",
      "text/plain": [
       "<Figure size 1440x1080 with 9 Axes>"
      ]
     },
     "metadata": {
      "needs_background": "light"
     },
     "output_type": "display_data"
    }
   ],
   "source": [
    "df.hist(bins=50, figsize=(20,15))"
   ]
  },
  {
   "cell_type": "code",
   "execution_count": 18,
   "metadata": {},
   "outputs": [
    {
     "name": "stdout",
     "output_type": "stream",
     "text": [
      "<class 'pandas.core.frame.DataFrame'>\n",
      "Int64Index: 5419 entries, 0 to 5419\n",
      "Data columns (total 14 columns):\n",
      " #   Column             Non-Null Count  Dtype \n",
      "---  ------             --------------  ----- \n",
      " 0   year               5419 non-null   int64 \n",
      " 1   make               5419 non-null   object\n",
      " 2   model              5419 non-null   object\n",
      " 3   mileage            5419 non-null   int64 \n",
      " 4   state of origin    5419 non-null   object\n",
      " 5   engine size        5419 non-null   int64 \n",
      " 6   engine type        5419 non-null   object\n",
      " 7   drivetrain         5419 non-null   object\n",
      " 8   transmmision type  5419 non-null   object\n",
      " 9   number of gears    5419 non-null   int64 \n",
      " 10  body_style         5419 non-null   object\n",
      " 11  color              5419 non-null   int64 \n",
      " 12  price              5419 non-null   int64 \n",
      " 13  is descreptive     5419 non-null   int64 \n",
      "dtypes: int64(7), object(7)\n",
      "memory usage: 635.0+ KB\n"
     ]
    }
   ],
   "source": [
    "df.info()"
   ]
  },
  {
   "cell_type": "code",
   "execution_count": 19,
   "metadata": {},
   "outputs": [],
   "source": [
    "df = df.drop(df.loc[(df[\"price\"] > 100000)].index)\n",
    "df = df.drop(df.loc[(df[\"mileage\"] > 300000)].index)"
   ]
  },
  {
   "cell_type": "code",
   "execution_count": 20,
   "metadata": {},
   "outputs": [],
   "source": [
    "df = df.drop(df[df.groupby('make')['make'].transform('size') < 5].index)"
   ]
  },
  {
   "cell_type": "code",
   "execution_count": 21,
   "metadata": {},
   "outputs": [],
   "source": [
    "cars_df_with_dummies = pd.get_dummies(df)"
   ]
  },
  {
   "cell_type": "code",
   "execution_count": 22,
   "metadata": {},
   "outputs": [],
   "source": [
    "std_scaler = StandardScaler()\n",
    "\n",
    "price_label = cars_df_with_dummies['price']\n",
    "cars_without_price = cars_df_with_dummies.drop(['price'],axis=1)\n",
    "\n",
    "X_train,X_test,y_train,y_test = train_test_split(cars_without_price,price_label,test_size=0.2,random_state=0)\n",
    "\n",
    "\n",
    "X_train = std_scaler.fit_transform(X_train)\n",
    "X_test = std_scaler.transform(X_test)\n",
    "\n"
   ]
  },
  {
   "cell_type": "code",
   "execution_count": 23,
   "metadata": {},
   "outputs": [
    {
     "name": "stdout",
     "output_type": "stream",
     "text": [
      "-1.1385284983043954e+26\n",
      "3.6196221046685027e+34\n"
     ]
    }
   ],
   "source": [
    "linear_reg = LinearRegression()\n",
    "linear_reg.fit(X_train, y_train)\n",
    "initial_prediction = linear_reg.predict(X_test)\n",
    "\n",
    "\n",
    "print(linear_reg.score(X_test,y_test))\n",
    "print (mean_squared_error(y_test,initial_prediction))"
   ]
  },
  {
   "cell_type": "code",
   "execution_count": 24,
   "metadata": {},
   "outputs": [
    {
     "name": "stdout",
     "output_type": "stream",
     "text": [
      "0.5022215194336099\n",
      "158254272.43760455\n"
     ]
    }
   ],
   "source": [
    "knn_reg = KNeighborsRegressor()\n",
    "knn_reg.fit(X_train, y_train)\n",
    "initial_prediction = knn_reg.predict(X_test)\n",
    "\n",
    "\n",
    "print(knn_reg.score(X_test,y_test))\n",
    "print (mean_squared_error(y_test,initial_prediction))"
   ]
  },
  {
   "cell_type": "code",
   "execution_count": 25,
   "metadata": {},
   "outputs": [
    {
     "name": "stdout",
     "output_type": "stream",
     "text": [
      "0.7886821617642107\n",
      "67182395.4804973\n"
     ]
    }
   ],
   "source": [
    "rf_reg = RandomForestRegressor()\n",
    "rf_reg.fit(X_train, y_train)\n",
    "initial_prediction = rf_reg.predict(X_test)\n",
    "\n",
    "\n",
    "print(rf_reg.score(X_test,y_test))\n",
    "print (mean_squared_error(y_test,initial_prediction))"
   ]
  }
 ],
 "metadata": {
  "interpreter": {
   "hash": "e7370f93d1d0cde622a1f8e1c04877d8463912d04d973331ad4851f04de6915a"
  },
  "kernelspec": {
   "display_name": "Python 3.10.2 64-bit",
   "language": "python",
   "name": "python3"
  },
  "language_info": {
   "codemirror_mode": {
    "name": "ipython",
    "version": 3
   },
   "file_extension": ".py",
   "mimetype": "text/x-python",
   "name": "python",
   "nbconvert_exporter": "python",
   "pygments_lexer": "ipython3",
   "version": "3.10.2"
  },
  "orig_nbformat": 4
 },
 "nbformat": 4,
 "nbformat_minor": 2
}
